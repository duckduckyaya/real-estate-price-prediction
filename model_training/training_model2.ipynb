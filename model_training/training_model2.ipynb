{
 "cells": [
  {
   "cell_type": "code",
   "execution_count": 2,
   "metadata": {
    "collapsed": true
   },
   "outputs": [],
   "source": [
    "import matplotlib.pyplot as plt\n",
    "import numpy as np\n",
    "import pandas as pd\n",
    "from  sklearn.model_selection import train_test_split\n",
    "from sklearn.preprocessing import LabelEncoder\n",
    "from sklearn.linear_model import LinearRegression\n",
    "from sklearn import preprocessing"
   ]
  },
  {
   "cell_type": "code",
   "execution_count": 3,
   "metadata": {
    "collapsed": false,
    "pycharm": {
     "name": "#%%\n"
    }
   },
   "outputs": [],
   "source": [
    "data_file = 'immo.csv'\n",
    "df = pd.read_csv(data_file)\n",
    "\n"
   ]
  },
  {
   "cell_type": "code",
   "execution_count": 4,
   "metadata": {
    "collapsed": false,
    "pycharm": {
     "name": "#%%\n"
    }
   },
   "outputs": [
    {
     "data": {
      "text/plain": "          Price  NetHabitableSurface(msq)  ConstructionYear  BedroomCount  \\\n0      328330.0                       148                37           3.0   \n1      328330.0                       148                37           3.0   \n2      327829.0                       148                37           3.0   \n3      327829.0                       148                37           3.0   \n4      378242.0                       148                37           3.0   \n...         ...                       ...               ...           ...   \n21042  398000.0                       145                60           3.0   \n21043  219000.0                        95                37           2.0   \n21044  345000.0                       166                56           3.0   \n21045  375000.0                       160                51           3.0   \n21046  129000.0                       144                37           4.0   \n\n       Type_APARTMENT  Type_HOUSE  locality_'S Gravenwezel  \\\n0                   0           1                        0   \n1                   0           1                        0   \n2                   0           1                        0   \n3                   0           1                        0   \n4                   0           1                        0   \n...               ...         ...                      ...   \n21042               0           1                        0   \n21043               1           0                        0   \n21044               0           1                        0   \n21045               0           1                        0   \n21046               0           1                        0   \n\n       locality_'S-GRAVENWEZEL  locality_'s Gravenwezel  \\\n0                            0                        0   \n1                            0                        0   \n2                            0                        0   \n3                            0                        0   \n4                            0                        0   \n...                        ...                      ...   \n21042                        0                        0   \n21043                        0                        0   \n21044                        0                        0   \n21045                        0                        0   \n21046                        0                        0   \n\n       locality_'s-Gravenwezel  ...  FloodZoneType_NON_FLOOD_ZONE  \\\n0                            0  ...                             0   \n1                            0  ...                             0   \n2                            0  ...                             0   \n3                            0  ...                             0   \n4                            0  ...                             0   \n...                        ...  ...                           ...   \n21042                        0  ...                             1   \n21043                        0  ...                             1   \n21044                        0  ...                             1   \n21045                        0  ...                             1   \n21046                        0  ...                             0   \n\n       FloodZoneType_No Value  FloodZoneType_POSSIBLE_FLOOD_ZONE  \\\n0                           1                                  0   \n1                           1                                  0   \n2                           1                                  0   \n3                           1                                  0   \n4                           1                                  0   \n...                       ...                                ...   \n21042                       0                                  0   \n21043                       0                                  0   \n21044                       0                                  0   \n21045                       0                                  0   \n21046                       1                                  0   \n\n       FloodZoneType_POSSIBLE_N_CIRCUMSCRIBED_FLOOD_ZONE  \\\n0                                                      0   \n1                                                      0   \n2                                                      0   \n3                                                      0   \n4                                                      0   \n...                                                  ...   \n21042                                                  0   \n21043                                                  0   \n21044                                                  0   \n21045                                                  0   \n21046                                                  0   \n\n       FloodZoneType_POSSIBLE_N_CIRCUMSCRIBED_WATERSIDE_ZONE  \\\n0                                                      0       \n1                                                      0       \n2                                                      0       \n3                                                      0       \n4                                                      0       \n...                                                  ...       \n21042                                                  0       \n21043                                                  0       \n21044                                                  0       \n21045                                                  0       \n21046                                                  0       \n\n       FloodZoneType_RECOGNIZED_FLOOD_ZONE  \\\n0                                        0   \n1                                        0   \n2                                        0   \n3                                        0   \n4                                        0   \n...                                    ...   \n21042                                    0   \n21043                                    0   \n21044                                    0   \n21045                                    0   \n21046                                    0   \n\n       FloodZoneType_RECOGNIZED_N_CIRCUMSCRIBED_FLOOD_ZONE  \\\n0                                                      0     \n1                                                      0     \n2                                                      0     \n3                                                      0     \n4                                                      0     \n...                                                  ...     \n21042                                                  0     \n21043                                                  0     \n21044                                                  0     \n21045                                                  0     \n21046                                                  0     \n\n       FloodZoneType_RECOGNIZED_N_CIRCUMSCRIBED_WATERSIDE_FLOOD_ZONE  \\\n0                                                      0               \n1                                                      0               \n2                                                      0               \n3                                                      0               \n4                                                      0               \n...                                                  ...               \n21042                                                  0               \n21043                                                  0               \n21044                                                  0               \n21045                                                  0               \n21046                                                  0               \n\n       IsDoubleGlaze_False  IsDoubleGlaze_True  \n0                        0                   1  \n1                        0                   1  \n2                        0                   1  \n3                        0                   1  \n4                        0                   1  \n...                    ...                 ...  \n21042                    1                   0  \n21043                    0                   1  \n21044                    0                   1  \n21045                    1                   0  \n21046                    0                   1  \n\n[21047 rows x 10419 columns]",
      "text/html": "<div>\n<style scoped>\n    .dataframe tbody tr th:only-of-type {\n        vertical-align: middle;\n    }\n\n    .dataframe tbody tr th {\n        vertical-align: top;\n    }\n\n    .dataframe thead th {\n        text-align: right;\n    }\n</style>\n<table border=\"1\" class=\"dataframe\">\n  <thead>\n    <tr style=\"text-align: right;\">\n      <th></th>\n      <th>Price</th>\n      <th>NetHabitableSurface(msq)</th>\n      <th>ConstructionYear</th>\n      <th>BedroomCount</th>\n      <th>Type_APARTMENT</th>\n      <th>Type_HOUSE</th>\n      <th>locality_'S Gravenwezel</th>\n      <th>locality_'S-GRAVENWEZEL</th>\n      <th>locality_'s Gravenwezel</th>\n      <th>locality_'s-Gravenwezel</th>\n      <th>...</th>\n      <th>FloodZoneType_NON_FLOOD_ZONE</th>\n      <th>FloodZoneType_No Value</th>\n      <th>FloodZoneType_POSSIBLE_FLOOD_ZONE</th>\n      <th>FloodZoneType_POSSIBLE_N_CIRCUMSCRIBED_FLOOD_ZONE</th>\n      <th>FloodZoneType_POSSIBLE_N_CIRCUMSCRIBED_WATERSIDE_ZONE</th>\n      <th>FloodZoneType_RECOGNIZED_FLOOD_ZONE</th>\n      <th>FloodZoneType_RECOGNIZED_N_CIRCUMSCRIBED_FLOOD_ZONE</th>\n      <th>FloodZoneType_RECOGNIZED_N_CIRCUMSCRIBED_WATERSIDE_FLOOD_ZONE</th>\n      <th>IsDoubleGlaze_False</th>\n      <th>IsDoubleGlaze_True</th>\n    </tr>\n  </thead>\n  <tbody>\n    <tr>\n      <th>0</th>\n      <td>328330.0</td>\n      <td>148</td>\n      <td>37</td>\n      <td>3.0</td>\n      <td>0</td>\n      <td>1</td>\n      <td>0</td>\n      <td>0</td>\n      <td>0</td>\n      <td>0</td>\n      <td>...</td>\n      <td>0</td>\n      <td>1</td>\n      <td>0</td>\n      <td>0</td>\n      <td>0</td>\n      <td>0</td>\n      <td>0</td>\n      <td>0</td>\n      <td>0</td>\n      <td>1</td>\n    </tr>\n    <tr>\n      <th>1</th>\n      <td>328330.0</td>\n      <td>148</td>\n      <td>37</td>\n      <td>3.0</td>\n      <td>0</td>\n      <td>1</td>\n      <td>0</td>\n      <td>0</td>\n      <td>0</td>\n      <td>0</td>\n      <td>...</td>\n      <td>0</td>\n      <td>1</td>\n      <td>0</td>\n      <td>0</td>\n      <td>0</td>\n      <td>0</td>\n      <td>0</td>\n      <td>0</td>\n      <td>0</td>\n      <td>1</td>\n    </tr>\n    <tr>\n      <th>2</th>\n      <td>327829.0</td>\n      <td>148</td>\n      <td>37</td>\n      <td>3.0</td>\n      <td>0</td>\n      <td>1</td>\n      <td>0</td>\n      <td>0</td>\n      <td>0</td>\n      <td>0</td>\n      <td>...</td>\n      <td>0</td>\n      <td>1</td>\n      <td>0</td>\n      <td>0</td>\n      <td>0</td>\n      <td>0</td>\n      <td>0</td>\n      <td>0</td>\n      <td>0</td>\n      <td>1</td>\n    </tr>\n    <tr>\n      <th>3</th>\n      <td>327829.0</td>\n      <td>148</td>\n      <td>37</td>\n      <td>3.0</td>\n      <td>0</td>\n      <td>1</td>\n      <td>0</td>\n      <td>0</td>\n      <td>0</td>\n      <td>0</td>\n      <td>...</td>\n      <td>0</td>\n      <td>1</td>\n      <td>0</td>\n      <td>0</td>\n      <td>0</td>\n      <td>0</td>\n      <td>0</td>\n      <td>0</td>\n      <td>0</td>\n      <td>1</td>\n    </tr>\n    <tr>\n      <th>4</th>\n      <td>378242.0</td>\n      <td>148</td>\n      <td>37</td>\n      <td>3.0</td>\n      <td>0</td>\n      <td>1</td>\n      <td>0</td>\n      <td>0</td>\n      <td>0</td>\n      <td>0</td>\n      <td>...</td>\n      <td>0</td>\n      <td>1</td>\n      <td>0</td>\n      <td>0</td>\n      <td>0</td>\n      <td>0</td>\n      <td>0</td>\n      <td>0</td>\n      <td>0</td>\n      <td>1</td>\n    </tr>\n    <tr>\n      <th>...</th>\n      <td>...</td>\n      <td>...</td>\n      <td>...</td>\n      <td>...</td>\n      <td>...</td>\n      <td>...</td>\n      <td>...</td>\n      <td>...</td>\n      <td>...</td>\n      <td>...</td>\n      <td>...</td>\n      <td>...</td>\n      <td>...</td>\n      <td>...</td>\n      <td>...</td>\n      <td>...</td>\n      <td>...</td>\n      <td>...</td>\n      <td>...</td>\n      <td>...</td>\n      <td>...</td>\n    </tr>\n    <tr>\n      <th>21042</th>\n      <td>398000.0</td>\n      <td>145</td>\n      <td>60</td>\n      <td>3.0</td>\n      <td>0</td>\n      <td>1</td>\n      <td>0</td>\n      <td>0</td>\n      <td>0</td>\n      <td>0</td>\n      <td>...</td>\n      <td>1</td>\n      <td>0</td>\n      <td>0</td>\n      <td>0</td>\n      <td>0</td>\n      <td>0</td>\n      <td>0</td>\n      <td>0</td>\n      <td>1</td>\n      <td>0</td>\n    </tr>\n    <tr>\n      <th>21043</th>\n      <td>219000.0</td>\n      <td>95</td>\n      <td>37</td>\n      <td>2.0</td>\n      <td>1</td>\n      <td>0</td>\n      <td>0</td>\n      <td>0</td>\n      <td>0</td>\n      <td>0</td>\n      <td>...</td>\n      <td>1</td>\n      <td>0</td>\n      <td>0</td>\n      <td>0</td>\n      <td>0</td>\n      <td>0</td>\n      <td>0</td>\n      <td>0</td>\n      <td>0</td>\n      <td>1</td>\n    </tr>\n    <tr>\n      <th>21044</th>\n      <td>345000.0</td>\n      <td>166</td>\n      <td>56</td>\n      <td>3.0</td>\n      <td>0</td>\n      <td>1</td>\n      <td>0</td>\n      <td>0</td>\n      <td>0</td>\n      <td>0</td>\n      <td>...</td>\n      <td>1</td>\n      <td>0</td>\n      <td>0</td>\n      <td>0</td>\n      <td>0</td>\n      <td>0</td>\n      <td>0</td>\n      <td>0</td>\n      <td>0</td>\n      <td>1</td>\n    </tr>\n    <tr>\n      <th>21045</th>\n      <td>375000.0</td>\n      <td>160</td>\n      <td>51</td>\n      <td>3.0</td>\n      <td>0</td>\n      <td>1</td>\n      <td>0</td>\n      <td>0</td>\n      <td>0</td>\n      <td>0</td>\n      <td>...</td>\n      <td>1</td>\n      <td>0</td>\n      <td>0</td>\n      <td>0</td>\n      <td>0</td>\n      <td>0</td>\n      <td>0</td>\n      <td>0</td>\n      <td>1</td>\n      <td>0</td>\n    </tr>\n    <tr>\n      <th>21046</th>\n      <td>129000.0</td>\n      <td>144</td>\n      <td>37</td>\n      <td>4.0</td>\n      <td>0</td>\n      <td>1</td>\n      <td>0</td>\n      <td>0</td>\n      <td>0</td>\n      <td>0</td>\n      <td>...</td>\n      <td>0</td>\n      <td>1</td>\n      <td>0</td>\n      <td>0</td>\n      <td>0</td>\n      <td>0</td>\n      <td>0</td>\n      <td>0</td>\n      <td>0</td>\n      <td>1</td>\n    </tr>\n  </tbody>\n</table>\n<p>21047 rows × 10419 columns</p>\n</div>"
     },
     "execution_count": 4,
     "metadata": {},
     "output_type": "execute_result"
    }
   ],
   "source": [
    "df = pd.DataFrame(df)\n",
    "df = df[['Type', 'Price', 'NetHabitableSurface(msq)','street',  'ConstructionYear','BedroomCount', 'locality',  'HeatingType', 'KitchekType', 'FloodZoneType', 'IsDoubleGlaze']]\n",
    "columns_to_n = ['Type', 'street',  'locality', 'HeatingType', 'KitchekType', 'FloodZoneType']\n",
    "columns_to_0 = ['Price',  'BedroomCount']\n",
    "df[columns_to_n] = df[columns_to_n].replace(np.nan, 'No Value')\n",
    "df[columns_to_0] = df[columns_to_0].replace(np.nan, 0)\n",
    "\n",
    "# age of building\n",
    "list_years = []\n",
    "for year in df['ConstructionYear']:\n",
    "    years = 2022 - year\n",
    "    list_years.append(years)\n",
    "df = df.assign(ConstructionYear = list_years)\n",
    "\n",
    "df[['NetHabitableSurface(msq)', 'ConstructionYear']] = df[['NetHabitableSurface(msq)','ConstructionYear']].fillna(df[['NetHabitableSurface(msq)', 'ConstructionYear']].mean())\n",
    "df['IsDoubleGlaze'] = df['IsDoubleGlaze'].fillna(False)\n",
    "\n",
    "# encoder\n",
    "# labelencoder = LabelEncoder()\n",
    "# df['Type'] = labelencoder.fit_transform(df['Type'])\n",
    "# df['locality'] = labelencoder.fit_transform(df['locality'])\n",
    "# df['HeatingType'] = labelencoder.fit_transform(df['HeatingType'])\n",
    "# df['KitchekType'] = labelencoder.fit_transform(df['KitchekType'])\n",
    "# df['street'] = labelencoder.fit_transform(df['street'])\n",
    "# df['FloodZoneType'] = labelencoder.fit_transform(df['FloodZoneType'])\n",
    "# df['IsDoubleGlaze'] = labelencoder.fit_transform(df['IsDoubleGlaze'])\n",
    "\n",
    "\n",
    "df['NetHabitableSurface(msq)'] = df[['NetHabitableSurface(msq)']].astype(int)\n",
    "df['ConstructionYear'] = df[['ConstructionYear']].astype(int)\n",
    "df\n"
   ]
  },
  {
   "cell_type": "code",
   "execution_count": 70,
   "metadata": {
    "collapsed": false,
    "pycharm": {
     "name": "#%%\n"
    }
   },
   "outputs": [],
   "source": [
    "#GET X y\n",
    "X = np.array(df.drop('Price', axis=1))\n",
    "y = np.array(df['Price'])\n"
   ]
  },
  {
   "cell_type": "code",
   "execution_count": 71,
   "metadata": {
    "collapsed": false,
    "pycharm": {
     "name": "#%%\n"
    }
   },
   "outputs": [],
   "source": [
    "#split and normalisation\n",
    "from sklearn.preprocessing import StandardScaler\n",
    "X_train, X_test, y_train, y_test = train_test_split(X,y,random_state=41,  test_size=0.2)\n",
    "\n",
    "scaler = StandardScaler()\n",
    "scaler.fit(X_train)\n",
    "X_train = scaler.transform(X_train)\n",
    "X_test = scaler.transform(X_test)\n"
   ]
  },
  {
   "cell_type": "code",
   "execution_count": null,
   "metadata": {
    "collapsed": false,
    "pycharm": {
     "name": "#%%\n",
     "is_executing": true
    }
   },
   "outputs": [],
   "source": [
    "pd.DataFrame(X_train).hist()"
   ]
  },
  {
   "cell_type": "markdown",
   "metadata": {
    "collapsed": false
   },
   "source": [
    "# KNN"
   ]
  },
  {
   "cell_type": "code",
   "execution_count": 47,
   "metadata": {
    "collapsed": false,
    "pycharm": {
     "name": "#%%\n"
    }
   },
   "outputs": [],
   "source": [
    "from sklearn.neighbors import KNeighborsClassifier"
   ]
  },
  {
   "cell_type": "code",
   "execution_count": null,
   "metadata": {
    "collapsed": false,
    "pycharm": {
     "name": "#%%\n",
     "is_executing": true
    }
   },
   "outputs": [],
   "source": [
    "knn_model = KNeighborsClassifier(n_neighbors=5)\n",
    "knn_model.fit(X_train, y_train)\n",
    "knn_model.score(X_train,y_train)"
   ]
  },
  {
   "cell_type": "code",
   "execution_count": null,
   "metadata": {
    "collapsed": false,
    "pycharm": {
     "name": "#%%\n",
     "is_executing": true
    }
   },
   "outputs": [],
   "source": [
    "knn_predict = knn_model.predict(X_test)\n",
    "knn_model.score(X_test, y_test)"
   ]
  },
  {
   "cell_type": "code",
   "execution_count": null,
   "metadata": {
    "collapsed": false,
    "pycharm": {
     "name": "#%%\n",
     "is_executing": true
    }
   },
   "outputs": [],
   "source": [
    "from sklearn.metrics import classification_report\n",
    "print(classification_report(y_test,knn_predict))"
   ]
  },
  {
   "cell_type": "code",
   "execution_count": null,
   "metadata": {
    "collapsed": false,
    "pycharm": {
     "name": "#%%\n",
     "is_executing": true
    }
   },
   "outputs": [],
   "source": [
    "from sklearn.metrics import confusion_matrix\n",
    "import seaborn as sn\n",
    "y_predict = knn_model.predict(X_test)\n",
    "con_ma = confusion_matrix(y_test, y_predict)\n",
    "plt.figure(figsize=(18,12))\n",
    "sn.heatmap(con_ma, annot=True)"
   ]
  },
  {
   "cell_type": "markdown",
   "metadata": {
    "collapsed": false
   },
   "source": [
    "# linear regression"
   ]
  },
  {
   "cell_type": "code",
   "execution_count": null,
   "metadata": {
    "collapsed": false,
    "pycharm": {
     "name": "#%%\n",
     "is_executing": true
    }
   },
   "outputs": [],
   "source": [
    "regression = LinearRegression()\n",
    "regression.fit(X_train,y_train)\n",
    "regression.score(X_train, y_train)"
   ]
  },
  {
   "cell_type": "code",
   "execution_count": null,
   "metadata": {
    "collapsed": false,
    "pycharm": {
     "name": "#%%\n",
     "is_executing": true
    }
   },
   "outputs": [],
   "source": [
    "linear_predict =regression.predict(X_test)\n",
    "regression.score(X_test, y_test)"
   ]
  },
  {
   "cell_type": "markdown",
   "metadata": {
    "collapsed": false
   },
   "source": [
    "# random forest"
   ]
  },
  {
   "cell_type": "code",
   "execution_count": null,
   "metadata": {
    "collapsed": false,
    "pycharm": {
     "name": "#%%\n",
     "is_executing": true
    }
   },
   "outputs": [],
   "source": [
    "from sklearn.ensemble import RandomForestClassifier\n",
    "rt_model = RandomForestClassifier(n_estimators=700)\n",
    "rt_model.fit(X_train, y_train)\n",
    "y_predict = rt_model.predict(X_test)\n",
    "print(rt_model.score(X_train,y_train))"
   ]
  },
  {
   "cell_type": "code",
   "execution_count": null,
   "metadata": {
    "collapsed": false,
    "pycharm": {
     "name": "#%%\n"
    }
   },
   "outputs": [],
   "source": [
    "from sklearn.metrics import confusion_matrix\n",
    "import seaborn as sn\n",
    "con_ma1 = confusion_matrix(y_test, y_predict)\n",
    "plt.figure(figsize=(18,12))\n",
    "sn.heatmap(con_ma1, annot=True)"
   ]
  },
  {
   "cell_type": "markdown",
   "metadata": {
    "collapsed": false
   },
   "source": [
    "# svm"
   ]
  },
  {
   "cell_type": "code",
   "execution_count": null,
   "metadata": {
    "collapsed": false,
    "pycharm": {
     "name": "#%%\n",
     "is_executing": true
    }
   },
   "outputs": [],
   "source": [
    "from sklearn.svm import SVC\n",
    "svc_model = SVC()\n",
    "svc_model.fit(X_train, y_train)\n",
    "svc_model.score(X_train,y_train)"
   ]
  },
  {
   "cell_type": "code",
   "execution_count": 545,
   "metadata": {
    "collapsed": false,
    "pycharm": {
     "name": "#%%\n"
    }
   },
   "outputs": [
    {
     "data": {
      "text/plain": [
       "0.5140142517814726"
      ]
     },
     "execution_count": 545,
     "metadata": {},
     "output_type": "execute_result"
    }
   ],
   "source": [
    "svg_predict = svc_model.predict(X_test)\n",
    "svc_model.score(X_test, svg_predict)"
   ]
  },
  {
   "cell_type": "code",
   "execution_count": null,
   "metadata": {
    "collapsed": false,
    "pycharm": {
     "name": "#%%\n"
    }
   },
   "outputs": [],
   "source": [
    "from sklearn.metrics import classification_report\n",
    "print(classification_report(y_test,svg_predict))"
   ]
  },
  {
   "cell_type": "code",
   "execution_count": null,
   "metadata": {
    "collapsed": false,
    "pycharm": {
     "name": "#%%\n"
    }
   },
   "outputs": [],
   "source": [
    "from sklearn.metrics import confusion_matrix\n",
    "import seaborn as sn\n",
    "cm = confusion_matrix(y_test, svg_predict)\n",
    "plt.figure(figsize=(18,12))\n",
    "sn.heatmap(cm, annot=True)"
   ]
  }
 ],
 "metadata": {
  "kernelspec": {
   "display_name": "Python 3.9.13 64-bit (microsoft store)",
   "language": "python",
   "name": "python3"
  },
  "language_info": {
   "codemirror_mode": {
    "name": "ipython",
    "version": 3
   },
   "file_extension": ".py",
   "mimetype": "text/x-python",
   "name": "python",
   "nbconvert_exporter": "python",
   "pygments_lexer": "ipython3",
   "version": "3.9.13"
  },
  "vscode": {
   "interpreter": {
    "hash": "15b1d8602741c5b3fa25f721f018e4b29c945a5480527792ded63ec1ce7044d9"
   }
  }
 },
 "nbformat": 4,
 "nbformat_minor": 0
}