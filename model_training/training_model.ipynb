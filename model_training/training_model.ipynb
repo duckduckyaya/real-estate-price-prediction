{
 "cells": [
  {
   "cell_type": "code",
   "execution_count": 1,
   "metadata": {
    "collapsed": true
   },
   "outputs": [],
   "source": [
    "import copy\n",
    "import copyreg\n",
    "\n",
    "import matplotlib.pyplot as plt\n",
    "import numpy as np\n",
    "import pandas as pd\n",
    "from IPython.core.display_functions import display\n",
    "from  sklearn.model_selection import train_test_split\n",
    "from sklearn.preprocessing import LabelEncoder\n",
    "from sklearn.preprocessing import  MinMaxScaler\n",
    "from sklearn.linear_model import LinearRegression\n"
   ]
  },
  {
   "cell_type": "code",
   "execution_count": 311,
   "metadata": {
    "collapsed": false,
    "pycharm": {
     "name": "#%%\n"
    }
   },
   "outputs": [
    {
     "data": {
      "text/plain": "      classified_type  classified_price classified_kitchen_type  \\\n0           apartment            339000           hyperequipped   \n1           apartment            395000           hyperequipped   \n2           apartment            965000           hyperequipped   \n3           apartment            249000               installed   \n4           apartment            325000           hyperequipped   \n...               ...               ...                     ...   \n19981           house            375000            semiequipped   \n19982           house            375000            semiequipped   \n19986           house            389000           hyperequipped   \n19987           house            395000               installed   \n19988           house            395000            semiequipped   \n\n       classified_building_constructionYear classified_building_condition  \\\n0                                    2021.0                 justrenovated   \n1                                    2022.0                 justrenovated   \n2                                    2021.0                 justrenovated   \n3                                    2010.0                          good   \n4                                    1967.0                 justrenovated   \n...                                     ...                           ...   \n19981                                1977.0                    torenovate   \n19982                                1968.0                    torenovate   \n19986                                1985.0                          good   \n19987                                1951.0                          good   \n19988                                1985.0                 justrenovated   \n\n      classified_energy_heatingType  \\\n0                               gas   \n1                               gas   \n2                               gas   \n3                               gas   \n4                               gas   \n...                             ...   \n19981                           gas   \n19982                       fueloil   \n19986                           gas   \n19987                           gas   \n19988                       fueloil   \n\n       classified_certificates_primaryEnergyConsumptionLevel  \\\n0                                                      1       \n1                                                     54       \n2                                                     55       \n3                                                     88       \n4                                                     99       \n...                                                  ...       \n19981                                                360       \n19982                                                880       \n19986                                                176       \n19987                                                212       \n19988                                                213       \n\n       classified_bedroom_count  classified_condition_isNewlyBuilt  \\\n0                           2.0                                1.0   \n1                           3.0                                1.0   \n2                           3.0                                1.0   \n3                           2.0                                0.0   \n4                           2.0                                0.0   \n...                         ...                                ...   \n19981                       3.0                                0.0   \n19982                       4.0                                0.0   \n19986                       3.0                                0.0   \n19987                       3.0                                0.0   \n19988                       0.0                                0.0   \n\n      classified_region  construction_years  \n0       Oost Vlaanderen                 1.0  \n1              Brussels                 0.0  \n2              Brussels                 1.0  \n3        Vlaams Brabant                12.0  \n4       West Vlaanderen                55.0  \n...                 ...                 ...  \n19981  Brabant Wallonia                45.0  \n19982    Vlaams Brabant                54.0  \n19986           Antwerp                37.0  \n19987           Limburg                71.0  \n19988           Hainaut                37.0  \n\n[7892 rows x 11 columns]",
      "text/html": "<div>\n<style scoped>\n    .dataframe tbody tr th:only-of-type {\n        vertical-align: middle;\n    }\n\n    .dataframe tbody tr th {\n        vertical-align: top;\n    }\n\n    .dataframe thead th {\n        text-align: right;\n    }\n</style>\n<table border=\"1\" class=\"dataframe\">\n  <thead>\n    <tr style=\"text-align: right;\">\n      <th></th>\n      <th>classified_type</th>\n      <th>classified_price</th>\n      <th>classified_kitchen_type</th>\n      <th>classified_building_constructionYear</th>\n      <th>classified_building_condition</th>\n      <th>classified_energy_heatingType</th>\n      <th>classified_certificates_primaryEnergyConsumptionLevel</th>\n      <th>classified_bedroom_count</th>\n      <th>classified_condition_isNewlyBuilt</th>\n      <th>classified_region</th>\n      <th>construction_years</th>\n    </tr>\n  </thead>\n  <tbody>\n    <tr>\n      <th>0</th>\n      <td>apartment</td>\n      <td>339000</td>\n      <td>hyperequipped</td>\n      <td>2021.0</td>\n      <td>justrenovated</td>\n      <td>gas</td>\n      <td>1</td>\n      <td>2.0</td>\n      <td>1.0</td>\n      <td>Oost Vlaanderen</td>\n      <td>1.0</td>\n    </tr>\n    <tr>\n      <th>1</th>\n      <td>apartment</td>\n      <td>395000</td>\n      <td>hyperequipped</td>\n      <td>2022.0</td>\n      <td>justrenovated</td>\n      <td>gas</td>\n      <td>54</td>\n      <td>3.0</td>\n      <td>1.0</td>\n      <td>Brussels</td>\n      <td>0.0</td>\n    </tr>\n    <tr>\n      <th>2</th>\n      <td>apartment</td>\n      <td>965000</td>\n      <td>hyperequipped</td>\n      <td>2021.0</td>\n      <td>justrenovated</td>\n      <td>gas</td>\n      <td>55</td>\n      <td>3.0</td>\n      <td>1.0</td>\n      <td>Brussels</td>\n      <td>1.0</td>\n    </tr>\n    <tr>\n      <th>3</th>\n      <td>apartment</td>\n      <td>249000</td>\n      <td>installed</td>\n      <td>2010.0</td>\n      <td>good</td>\n      <td>gas</td>\n      <td>88</td>\n      <td>2.0</td>\n      <td>0.0</td>\n      <td>Vlaams Brabant</td>\n      <td>12.0</td>\n    </tr>\n    <tr>\n      <th>4</th>\n      <td>apartment</td>\n      <td>325000</td>\n      <td>hyperequipped</td>\n      <td>1967.0</td>\n      <td>justrenovated</td>\n      <td>gas</td>\n      <td>99</td>\n      <td>2.0</td>\n      <td>0.0</td>\n      <td>West Vlaanderen</td>\n      <td>55.0</td>\n    </tr>\n    <tr>\n      <th>...</th>\n      <td>...</td>\n      <td>...</td>\n      <td>...</td>\n      <td>...</td>\n      <td>...</td>\n      <td>...</td>\n      <td>...</td>\n      <td>...</td>\n      <td>...</td>\n      <td>...</td>\n      <td>...</td>\n    </tr>\n    <tr>\n      <th>19981</th>\n      <td>house</td>\n      <td>375000</td>\n      <td>semiequipped</td>\n      <td>1977.0</td>\n      <td>torenovate</td>\n      <td>gas</td>\n      <td>360</td>\n      <td>3.0</td>\n      <td>0.0</td>\n      <td>Brabant Wallonia</td>\n      <td>45.0</td>\n    </tr>\n    <tr>\n      <th>19982</th>\n      <td>house</td>\n      <td>375000</td>\n      <td>semiequipped</td>\n      <td>1968.0</td>\n      <td>torenovate</td>\n      <td>fueloil</td>\n      <td>880</td>\n      <td>4.0</td>\n      <td>0.0</td>\n      <td>Vlaams Brabant</td>\n      <td>54.0</td>\n    </tr>\n    <tr>\n      <th>19986</th>\n      <td>house</td>\n      <td>389000</td>\n      <td>hyperequipped</td>\n      <td>1985.0</td>\n      <td>good</td>\n      <td>gas</td>\n      <td>176</td>\n      <td>3.0</td>\n      <td>0.0</td>\n      <td>Antwerp</td>\n      <td>37.0</td>\n    </tr>\n    <tr>\n      <th>19987</th>\n      <td>house</td>\n      <td>395000</td>\n      <td>installed</td>\n      <td>1951.0</td>\n      <td>good</td>\n      <td>gas</td>\n      <td>212</td>\n      <td>3.0</td>\n      <td>0.0</td>\n      <td>Limburg</td>\n      <td>71.0</td>\n    </tr>\n    <tr>\n      <th>19988</th>\n      <td>house</td>\n      <td>395000</td>\n      <td>semiequipped</td>\n      <td>1985.0</td>\n      <td>justrenovated</td>\n      <td>fueloil</td>\n      <td>213</td>\n      <td>0.0</td>\n      <td>0.0</td>\n      <td>Hainaut</td>\n      <td>37.0</td>\n    </tr>\n  </tbody>\n</table>\n<p>7892 rows × 11 columns</p>\n</div>"
     },
     "metadata": {},
     "output_type": "display_data"
    },
    {
     "data": {
      "text/plain": "Index(['classified_type', 'classified_price', 'classified_kitchen_type',\n       'classified_building_constructionYear', 'classified_building_condition',\n       'classified_energy_heatingType',\n       'classified_certificates_primaryEnergyConsumptionLevel',\n       'classified_bedroom_count', 'classified_condition_isNewlyBuilt',\n       'classified_region', 'construction_years'],\n      dtype='object')"
     },
     "metadata": {},
     "output_type": "display_data"
    }
   ],
   "source": [
    "data_file = 'clean_data.csv'\n",
    "df = pd.read_csv(data_file)\n",
    "df.head()\n",
    "\n",
    "# clean duplicate, strong correlation data drop none use columns\n",
    "\n",
    "df = df.drop(['Unnamed: 0', 'classified_subtype', 'classified_transactionType', 'classified_visualisationOption', 'classified_specificities_SME_office_exists', 'classified_wellnessEquipment_hasSwimmingPool', 'classified_parking_parkingSpaceCount_indoor', 'new_price', 'bedroom_count'], axis=1)\n",
    "\n",
    "df = df.fillna(0)\n",
    "df = pd.DataFrame(df)\n",
    "df = df.astype({'classified_certificates_primaryEnergyConsumptionLevel': 'int'})\n",
    "\n",
    "# age of building\n",
    "list_years = []\n",
    "for year in df['classified_building_constructionYear']:\n",
    "    years = 2022 - year\n",
    "    list_years.append(years)\n",
    "df = df.assign(construction_years = list_years)\n",
    "\n",
    "#drop columns that not related\n",
    "df = df.drop(['classified_id','classified_atticExists', 'classified_basementExists', 'classified_outdoor_garden_surface', 'classified_parking_parkingSpaceCount_outdoor', 'classified_outdoor_terrace_exists', 'classified_land_surface','classified_zip'], axis=1)\n",
    "df = df[df.classified_building_constructionYear != 0]\n",
    "df = df[df.classified_energy_heatingType != 0]\n",
    "df = df[df.classified_energy_heatingType != 0]\n",
    "df = df[df.classified_certificates_primaryEnergyConsumptionLevel != 0]\n",
    "\n",
    "\n",
    "display(df)\n",
    "display(df.columns)\n",
    "\n"
   ]
  },
  {
   "cell_type": "code",
   "execution_count": 312,
   "outputs": [
    {
     "data": {
      "text/plain": "       classified_type  classified_price  classified_kitchen_type  \\\n0                    0            339000                        0   \n1                    0            395000                        0   \n2                    0            965000                        0   \n3                    0            249000                        1   \n4                    0            325000                        0   \n...                ...               ...                      ...   \n19981                1            375000                        3   \n19982                1            375000                        3   \n19986                1            389000                        0   \n19987                1            395000                        1   \n19988                1            395000                        3   \n\n       classified_building_constructionYear  classified_building_condition  \\\n0                                    2021.0                              1   \n1                                    2022.0                              1   \n2                                    2021.0                              1   \n3                                    2010.0                              0   \n4                                    1967.0                              1   \n...                                     ...                            ...   \n19981                                1977.0                              2   \n19982                                1968.0                              2   \n19986                                1985.0                              0   \n19987                                1951.0                              0   \n19988                                1985.0                              1   \n\n       classified_energy_heatingType  \\\n0                                  3   \n1                                  3   \n2                                  3   \n3                                  3   \n4                                  3   \n...                              ...   \n19981                              3   \n19982                              2   \n19986                              3   \n19987                              3   \n19988                              2   \n\n       classified_certificates_primaryEnergyConsumptionLevel  \\\n0                                                      0       \n1                                                     39       \n2                                                     40       \n3                                                     73       \n4                                                     84       \n...                                                  ...       \n19981                                                345       \n19982                                                790       \n19986                                                161       \n19987                                                197       \n19988                                                198       \n\n       classified_bedroom_count  classified_condition_isNewlyBuilt  \\\n0                           2.0                                  1   \n1                           3.0                                  1   \n2                           3.0                                  1   \n3                           2.0                                  0   \n4                           2.0                                  0   \n...                         ...                                ...   \n19981                       3.0                                  0   \n19982                       4.0                                  0   \n19986                       3.0                                  0   \n19987                       3.0                                  0   \n19988                       0.0                                  0   \n\n       classified_region  construction_years  \n0                      8                 1.0  \n1                      2                 0.0  \n2                      2                 1.0  \n3                      9                12.0  \n4                     10                55.0  \n...                  ...                 ...  \n19981                  1                45.0  \n19982                  9                54.0  \n19986                  0                37.0  \n19987                  5                71.0  \n19988                  3                37.0  \n\n[7892 rows x 11 columns]",
      "text/html": "<div>\n<style scoped>\n    .dataframe tbody tr th:only-of-type {\n        vertical-align: middle;\n    }\n\n    .dataframe tbody tr th {\n        vertical-align: top;\n    }\n\n    .dataframe thead th {\n        text-align: right;\n    }\n</style>\n<table border=\"1\" class=\"dataframe\">\n  <thead>\n    <tr style=\"text-align: right;\">\n      <th></th>\n      <th>classified_type</th>\n      <th>classified_price</th>\n      <th>classified_kitchen_type</th>\n      <th>classified_building_constructionYear</th>\n      <th>classified_building_condition</th>\n      <th>classified_energy_heatingType</th>\n      <th>classified_certificates_primaryEnergyConsumptionLevel</th>\n      <th>classified_bedroom_count</th>\n      <th>classified_condition_isNewlyBuilt</th>\n      <th>classified_region</th>\n      <th>construction_years</th>\n    </tr>\n  </thead>\n  <tbody>\n    <tr>\n      <th>0</th>\n      <td>0</td>\n      <td>339000</td>\n      <td>0</td>\n      <td>2021.0</td>\n      <td>1</td>\n      <td>3</td>\n      <td>0</td>\n      <td>2.0</td>\n      <td>1</td>\n      <td>8</td>\n      <td>1.0</td>\n    </tr>\n    <tr>\n      <th>1</th>\n      <td>0</td>\n      <td>395000</td>\n      <td>0</td>\n      <td>2022.0</td>\n      <td>1</td>\n      <td>3</td>\n      <td>39</td>\n      <td>3.0</td>\n      <td>1</td>\n      <td>2</td>\n      <td>0.0</td>\n    </tr>\n    <tr>\n      <th>2</th>\n      <td>0</td>\n      <td>965000</td>\n      <td>0</td>\n      <td>2021.0</td>\n      <td>1</td>\n      <td>3</td>\n      <td>40</td>\n      <td>3.0</td>\n      <td>1</td>\n      <td>2</td>\n      <td>1.0</td>\n    </tr>\n    <tr>\n      <th>3</th>\n      <td>0</td>\n      <td>249000</td>\n      <td>1</td>\n      <td>2010.0</td>\n      <td>0</td>\n      <td>3</td>\n      <td>73</td>\n      <td>2.0</td>\n      <td>0</td>\n      <td>9</td>\n      <td>12.0</td>\n    </tr>\n    <tr>\n      <th>4</th>\n      <td>0</td>\n      <td>325000</td>\n      <td>0</td>\n      <td>1967.0</td>\n      <td>1</td>\n      <td>3</td>\n      <td>84</td>\n      <td>2.0</td>\n      <td>0</td>\n      <td>10</td>\n      <td>55.0</td>\n    </tr>\n    <tr>\n      <th>...</th>\n      <td>...</td>\n      <td>...</td>\n      <td>...</td>\n      <td>...</td>\n      <td>...</td>\n      <td>...</td>\n      <td>...</td>\n      <td>...</td>\n      <td>...</td>\n      <td>...</td>\n      <td>...</td>\n    </tr>\n    <tr>\n      <th>19981</th>\n      <td>1</td>\n      <td>375000</td>\n      <td>3</td>\n      <td>1977.0</td>\n      <td>2</td>\n      <td>3</td>\n      <td>345</td>\n      <td>3.0</td>\n      <td>0</td>\n      <td>1</td>\n      <td>45.0</td>\n    </tr>\n    <tr>\n      <th>19982</th>\n      <td>1</td>\n      <td>375000</td>\n      <td>3</td>\n      <td>1968.0</td>\n      <td>2</td>\n      <td>2</td>\n      <td>790</td>\n      <td>4.0</td>\n      <td>0</td>\n      <td>9</td>\n      <td>54.0</td>\n    </tr>\n    <tr>\n      <th>19986</th>\n      <td>1</td>\n      <td>389000</td>\n      <td>0</td>\n      <td>1985.0</td>\n      <td>0</td>\n      <td>3</td>\n      <td>161</td>\n      <td>3.0</td>\n      <td>0</td>\n      <td>0</td>\n      <td>37.0</td>\n    </tr>\n    <tr>\n      <th>19987</th>\n      <td>1</td>\n      <td>395000</td>\n      <td>1</td>\n      <td>1951.0</td>\n      <td>0</td>\n      <td>3</td>\n      <td>197</td>\n      <td>3.0</td>\n      <td>0</td>\n      <td>5</td>\n      <td>71.0</td>\n    </tr>\n    <tr>\n      <th>19988</th>\n      <td>1</td>\n      <td>395000</td>\n      <td>3</td>\n      <td>1985.0</td>\n      <td>1</td>\n      <td>2</td>\n      <td>198</td>\n      <td>0.0</td>\n      <td>0</td>\n      <td>3</td>\n      <td>37.0</td>\n    </tr>\n  </tbody>\n</table>\n<p>7892 rows × 11 columns</p>\n</div>"
     },
     "execution_count": 312,
     "metadata": {},
     "output_type": "execute_result"
    }
   ],
   "source": [
    "\n",
    "labelencoder = LabelEncoder()\n",
    "df['classified_energy_heatingType'] = labelencoder.fit_transform(df['classified_energy_heatingType'])\n",
    "df['classified_region'] = labelencoder.fit_transform(df['classified_region'])\n",
    "df['classified_type'] = labelencoder.fit_transform(df['classified_type'])\n",
    "df['classified_building_condition'] = labelencoder.fit_transform(df['classified_building_condition'])\n",
    "df['classified_condition_isNewlyBuilt'] = labelencoder.fit_transform(df['classified_condition_isNewlyBuilt'])\n",
    "df['classified_kitchen_type'] = labelencoder.fit_transform(df['classified_kitchen_type'])\n",
    "df['classified_certificates_primaryEnergyConsumptionLevel'] = labelencoder.fit_transform(df['classified_certificates_primaryEnergyConsumptionLevel'])\n",
    "df\n",
    "\n"
   ],
   "metadata": {
    "collapsed": false,
    "pycharm": {
     "name": "#%%\n"
    }
   }
  },
  {
   "cell_type": "code",
   "execution_count": 313,
   "outputs": [],
   "source": [
    "# data visual\n",
    "# for label in df.columns[1:]:\n",
    "#     plt.ticklabel_format(style='plain')\n",
    "#     plt.scatter(df[label], df['classified_price'])\n",
    "#     plt.title(label)\n",
    "#     plt.ylabel('classified_price')\n",
    "#     plt.xlabel(label)\n",
    "#     plt.show()\n"
   ],
   "metadata": {
    "collapsed": false,
    "pycharm": {
     "name": "#%%\n"
    }
   }
  },
  {
   "cell_type": "markdown",
   "source": [
    "# Linear regression"
   ],
   "metadata": {
    "collapsed": false
   }
  },
  {
   "cell_type": "code",
   "execution_count": 307,
   "outputs": [
    {
     "data": {
      "text/plain": "array([[1.        , 0.45186355],\n       [0.45186355, 1.        ]])"
     },
     "execution_count": 307,
     "metadata": {},
     "output_type": "execute_result"
    }
   ],
   "source": [
    "X = np.array(df[['classified_bedroom_count','classified_kitchen_type','classified_type','classified_building_constructionYear','classified_condition_isNewlyBuilt']])\n",
    "y = np.array(df['classified_price'])\n",
    "np.corrcoef(X[:,1],y)\n",
    "np.corrcoef(X[:,0],y)"
   ],
   "metadata": {
    "collapsed": false,
    "pycharm": {
     "name": "#%%\n"
    }
   }
  },
  {
   "cell_type": "code",
   "execution_count": 308,
   "outputs": [],
   "source": [
    "X_train, X_test, y_train, y_test = train_test_split(X,y,random_state=41,  test_size=0.2)\n",
    "\n",
    "scaler = MinMaxScaler()\n",
    "X_train = scaler.fit_transform(X_train)\n",
    "X_test = scaler.fit_transform(X_test)\n"
   ],
   "metadata": {
    "collapsed": false,
    "pycharm": {
     "name": "#%%\n"
    }
   }
  },
  {
   "cell_type": "code",
   "execution_count": 309,
   "outputs": [
    {
     "data": {
      "text/plain": "0.24981313831315155"
     },
     "execution_count": 309,
     "metadata": {},
     "output_type": "execute_result"
    }
   ],
   "source": [
    "regression = LinearRegression()\n",
    "regression.fit(X_train,y_train)\n",
    "regression.score(X_train, y_train)"
   ],
   "metadata": {
    "collapsed": false,
    "pycharm": {
     "name": "#%%\n"
    }
   }
  },
  {
   "cell_type": "code",
   "execution_count": 310,
   "outputs": [
    {
     "data": {
      "text/plain": "0.20127078521829955"
     },
     "execution_count": 310,
     "metadata": {},
     "output_type": "execute_result"
    }
   ],
   "source": [
    "regression.predict(X_test)\n",
    "regression.score(X_test, y_test)"
   ],
   "metadata": {
    "collapsed": false,
    "pycharm": {
     "name": "#%%\n"
    }
   }
  },
  {
   "cell_type": "markdown",
   "source": [
    "# KNN"
   ],
   "metadata": {
    "collapsed": false
   }
  },
  {
   "cell_type": "code",
   "execution_count": 314,
   "outputs": [
    {
     "data": {
      "text/plain": "array([[1.        , 0.45186355],\n       [0.45186355, 1.        ]])"
     },
     "execution_count": 314,
     "metadata": {},
     "output_type": "execute_result"
    }
   ],
   "source": [
    "X = np.array(df[['classified_bedroom_count','classified_kitchen_type','classified_type','construction_years','classified_condition_isNewlyBuilt','classified_building_condition', 'classified_certificates_primaryEnergyConsumptionLevel', 'classified_energy_heatingType', 'classified_region']])\n",
    "y = np.array(df['classified_price'])\n",
    "np.corrcoef(X[:,1],y)\n",
    "np.corrcoef(X[:,0],y)"
   ],
   "metadata": {
    "collapsed": false,
    "pycharm": {
     "name": "#%%\n"
    }
   }
  },
  {
   "cell_type": "code",
   "execution_count": 315,
   "outputs": [
    {
     "data": {
      "text/plain": "       classified_type  classified_price  classified_kitchen_type  \\\n0                    0            339000                        0   \n1                    0            395000                        0   \n2                    0            965000                        0   \n3                    0            249000                        1   \n4                    0            325000                        0   \n...                ...               ...                      ...   \n19981                1            375000                        3   \n19982                1            375000                        3   \n19986                1            389000                        0   \n19987                1            395000                        1   \n19988                1            395000                        3   \n\n       classified_building_constructionYear  classified_building_condition  \\\n0                                    2021.0                              1   \n1                                    2022.0                              1   \n2                                    2021.0                              1   \n3                                    2010.0                              0   \n4                                    1967.0                              1   \n...                                     ...                            ...   \n19981                                1977.0                              2   \n19982                                1968.0                              2   \n19986                                1985.0                              0   \n19987                                1951.0                              0   \n19988                                1985.0                              1   \n\n       classified_energy_heatingType  \\\n0                                  3   \n1                                  3   \n2                                  3   \n3                                  3   \n4                                  3   \n...                              ...   \n19981                              3   \n19982                              2   \n19986                              3   \n19987                              3   \n19988                              2   \n\n       classified_certificates_primaryEnergyConsumptionLevel  \\\n0                                                      0       \n1                                                     39       \n2                                                     40       \n3                                                     73       \n4                                                     84       \n...                                                  ...       \n19981                                                345       \n19982                                                790       \n19986                                                161       \n19987                                                197       \n19988                                                198       \n\n       classified_bedroom_count  classified_condition_isNewlyBuilt  \\\n0                           2.0                                  1   \n1                           3.0                                  1   \n2                           3.0                                  1   \n3                           2.0                                  0   \n4                           2.0                                  0   \n...                         ...                                ...   \n19981                       3.0                                  0   \n19982                       4.0                                  0   \n19986                       3.0                                  0   \n19987                       3.0                                  0   \n19988                       0.0                                  0   \n\n       classified_region  construction_years  \n0                      8                 1.0  \n1                      2                 0.0  \n2                      2                 1.0  \n3                      9                12.0  \n4                     10                55.0  \n...                  ...                 ...  \n19981                  1                45.0  \n19982                  9                54.0  \n19986                  0                37.0  \n19987                  5                71.0  \n19988                  3                37.0  \n\n[7892 rows x 11 columns]",
      "text/html": "<div>\n<style scoped>\n    .dataframe tbody tr th:only-of-type {\n        vertical-align: middle;\n    }\n\n    .dataframe tbody tr th {\n        vertical-align: top;\n    }\n\n    .dataframe thead th {\n        text-align: right;\n    }\n</style>\n<table border=\"1\" class=\"dataframe\">\n  <thead>\n    <tr style=\"text-align: right;\">\n      <th></th>\n      <th>classified_type</th>\n      <th>classified_price</th>\n      <th>classified_kitchen_type</th>\n      <th>classified_building_constructionYear</th>\n      <th>classified_building_condition</th>\n      <th>classified_energy_heatingType</th>\n      <th>classified_certificates_primaryEnergyConsumptionLevel</th>\n      <th>classified_bedroom_count</th>\n      <th>classified_condition_isNewlyBuilt</th>\n      <th>classified_region</th>\n      <th>construction_years</th>\n    </tr>\n  </thead>\n  <tbody>\n    <tr>\n      <th>0</th>\n      <td>0</td>\n      <td>339000</td>\n      <td>0</td>\n      <td>2021.0</td>\n      <td>1</td>\n      <td>3</td>\n      <td>0</td>\n      <td>2.0</td>\n      <td>1</td>\n      <td>8</td>\n      <td>1.0</td>\n    </tr>\n    <tr>\n      <th>1</th>\n      <td>0</td>\n      <td>395000</td>\n      <td>0</td>\n      <td>2022.0</td>\n      <td>1</td>\n      <td>3</td>\n      <td>39</td>\n      <td>3.0</td>\n      <td>1</td>\n      <td>2</td>\n      <td>0.0</td>\n    </tr>\n    <tr>\n      <th>2</th>\n      <td>0</td>\n      <td>965000</td>\n      <td>0</td>\n      <td>2021.0</td>\n      <td>1</td>\n      <td>3</td>\n      <td>40</td>\n      <td>3.0</td>\n      <td>1</td>\n      <td>2</td>\n      <td>1.0</td>\n    </tr>\n    <tr>\n      <th>3</th>\n      <td>0</td>\n      <td>249000</td>\n      <td>1</td>\n      <td>2010.0</td>\n      <td>0</td>\n      <td>3</td>\n      <td>73</td>\n      <td>2.0</td>\n      <td>0</td>\n      <td>9</td>\n      <td>12.0</td>\n    </tr>\n    <tr>\n      <th>4</th>\n      <td>0</td>\n      <td>325000</td>\n      <td>0</td>\n      <td>1967.0</td>\n      <td>1</td>\n      <td>3</td>\n      <td>84</td>\n      <td>2.0</td>\n      <td>0</td>\n      <td>10</td>\n      <td>55.0</td>\n    </tr>\n    <tr>\n      <th>...</th>\n      <td>...</td>\n      <td>...</td>\n      <td>...</td>\n      <td>...</td>\n      <td>...</td>\n      <td>...</td>\n      <td>...</td>\n      <td>...</td>\n      <td>...</td>\n      <td>...</td>\n      <td>...</td>\n    </tr>\n    <tr>\n      <th>19981</th>\n      <td>1</td>\n      <td>375000</td>\n      <td>3</td>\n      <td>1977.0</td>\n      <td>2</td>\n      <td>3</td>\n      <td>345</td>\n      <td>3.0</td>\n      <td>0</td>\n      <td>1</td>\n      <td>45.0</td>\n    </tr>\n    <tr>\n      <th>19982</th>\n      <td>1</td>\n      <td>375000</td>\n      <td>3</td>\n      <td>1968.0</td>\n      <td>2</td>\n      <td>2</td>\n      <td>790</td>\n      <td>4.0</td>\n      <td>0</td>\n      <td>9</td>\n      <td>54.0</td>\n    </tr>\n    <tr>\n      <th>19986</th>\n      <td>1</td>\n      <td>389000</td>\n      <td>0</td>\n      <td>1985.0</td>\n      <td>0</td>\n      <td>3</td>\n      <td>161</td>\n      <td>3.0</td>\n      <td>0</td>\n      <td>0</td>\n      <td>37.0</td>\n    </tr>\n    <tr>\n      <th>19987</th>\n      <td>1</td>\n      <td>395000</td>\n      <td>1</td>\n      <td>1951.0</td>\n      <td>0</td>\n      <td>3</td>\n      <td>197</td>\n      <td>3.0</td>\n      <td>0</td>\n      <td>5</td>\n      <td>71.0</td>\n    </tr>\n    <tr>\n      <th>19988</th>\n      <td>1</td>\n      <td>395000</td>\n      <td>3</td>\n      <td>1985.0</td>\n      <td>1</td>\n      <td>2</td>\n      <td>198</td>\n      <td>0.0</td>\n      <td>0</td>\n      <td>3</td>\n      <td>37.0</td>\n    </tr>\n  </tbody>\n</table>\n<p>7892 rows × 11 columns</p>\n</div>"
     },
     "execution_count": 315,
     "metadata": {},
     "output_type": "execute_result"
    }
   ],
   "source": [
    "df"
   ],
   "metadata": {
    "collapsed": false,
    "pycharm": {
     "name": "#%%\n"
    }
   }
  },
  {
   "cell_type": "code",
   "execution_count": 316,
   "outputs": [],
   "source": [
    "from sklearn.preprocessing import StandardScaler\n",
    "\n",
    "X_train, X_test, y_train, y_test = train_test_split(X,y,random_state=41,  test_size=0.2)\n",
    "X_train = StandardScaler().fit_transform(X_train)\n",
    "X_test = StandardScaler().fit_transform(X_test)\n"
   ],
   "metadata": {
    "collapsed": false,
    "pycharm": {
     "name": "#%%\n"
    }
   }
  },
  {
   "cell_type": "code",
   "execution_count": 317,
   "outputs": [
    {
     "data": {
      "text/plain": "array([[<AxesSubplot: title={'center': '0'}>,\n        <AxesSubplot: title={'center': '1'}>,\n        <AxesSubplot: title={'center': '2'}>],\n       [<AxesSubplot: title={'center': '3'}>,\n        <AxesSubplot: title={'center': '4'}>,\n        <AxesSubplot: title={'center': '5'}>],\n       [<AxesSubplot: title={'center': '6'}>,\n        <AxesSubplot: title={'center': '7'}>,\n        <AxesSubplot: title={'center': '8'}>]], dtype=object)"
     },
     "execution_count": 317,
     "metadata": {},
     "output_type": "execute_result"
    },
    {
     "data": {
      "text/plain": "<Figure size 640x480 with 9 Axes>",
      "image/png": "[encoded data removed]"
     },
     "metadata": {},
     "output_type": "display_data"
    }
   ],
   "source": [
    "pd.DataFrame(X_train).hist()"
   ],
   "metadata": {
    "collapsed": false,
    "pycharm": {
     "name": "#%%\n"
    }
   }
  },
  {
   "cell_type": "markdown",
   "source": [],
   "metadata": {
    "collapsed": false
   }
  },
  {
   "cell_type": "code",
   "execution_count": 318,
   "outputs": [],
   "source": [
    "from sklearn.neighbors import KNeighborsClassifier"
   ],
   "metadata": {
    "collapsed": false,
    "pycharm": {
     "name": "#%%\n"
    }
   }
  },
  {
   "cell_type": "code",
   "execution_count": 319,
   "outputs": [
    {
     "data": {
      "text/plain": "0.4115317598606051"
     },
     "execution_count": 319,
     "metadata": {},
     "output_type": "execute_result"
    }
   ],
   "source": [
    "knn_model = KNeighborsClassifier(n_neighbors=3)\n",
    "knn_model.fit(X_train, y_train)\n",
    "knn_model.score(X_train,y_train)"
   ],
   "metadata": {
    "collapsed": false,
    "pycharm": {
     "name": "#%%\n"
    }
   }
  },
  {
   "cell_type": "code",
   "execution_count": null,
   "outputs": [],
   "source": [
    "knn_model.predict(X_test)\n",
    "knn_model.score(X_test, y_test)"
   ],
   "metadata": {
    "collapsed": false,
    "pycharm": {
     "name": "#%%\n",
     "is_executing": true
    }
   }
  },
  {
   "cell_type": "code",
   "execution_count": null,
   "outputs": [],
   "source": [],
   "metadata": {
    "collapsed": false,
    "pycharm": {
     "name": "#%%\n"
    }
   }
  }
 ],
 "metadata": {
  "kernelspec": {
   "display_name": "Python 3.9.13 64-bit (microsoft store)",
   "language": "python",
   "name": "python3"
  },
  "language_info": {
   "codemirror_mode": {
    "name": "ipython",
    "version": 3
   },
   "file_extension": ".py",
   "mimetype": "text/x-python",
   "name": "python",
   "nbconvert_exporter": "python",
   "pygments_lexer": "ipython3",
   "version": "3.9.13"
  },
  "vscode": {
   "interpreter": {
    "hash": "15b1d8602741c5b3fa25f721f018e4b29c945a5480527792ded63ec1ce7044d9"
   }
  }
 },
 "nbformat": 4,
 "nbformat_minor": 0
}