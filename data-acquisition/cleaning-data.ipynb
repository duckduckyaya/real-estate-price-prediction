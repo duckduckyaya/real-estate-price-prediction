{
 "cells": [
  {
   "cell_type": "code",
   "execution_count": 19,
   "outputs": [],
   "source": [
    "import pandas as pd\n",
    "import numpy as np\n",
    "from IPython.core.display_functions import display"
   ],
   "metadata": {
    "collapsed": false,
    "pycharm": {
     "name": "#%%\n"
    }
   }
  },
  {
   "cell_type": "markdown",
   "source": [
    "### read csv"
   ],
   "metadata": {
    "collapsed": false
   }
  },
  {
   "cell_type": "code",
   "execution_count": 21,
   "metadata": {
    "collapsed": true
   },
   "outputs": [
    {
     "data": {
      "text/plain": "             id       type    subtype   price transactionType    kitchen_type  \\\n0      10163960  apartment  apartment  180000        for sale       installed   \n1      10164023  apartment  apartment  210000        for sale   not installed   \n2      10093468  apartment  apartment  299000        for sale       installed   \n3      10160241  apartment  apartment  375000        for sale  hyper equipped   \n4      10164025  apartment  apartment  259000        for sale       installed   \n...         ...        ...        ...     ...             ...             ...   \n21193  10066760  apartment  apartment  599000        for sale  hyper equipped   \n21194  10025476  apartment  apartment  600000        for sale   semi equipped   \n21195  10083841  apartment  apartment  619000        for sale       installed   \n21196  10083842  apartment  apartment  619000        for sale       installed   \n21197  10096315  apartment  penthouse  599900        for sale  hyper equipped   \n\n      energy_heatingType bedroom_count land_surface outdoor_terrace_exists  \\\n0                    gas             2          NaN                   true   \n1                    gas             2          NaN                   true   \n2                    gas             2          NaN                    NaN   \n3                    gas             2          NaN                   true   \n4                    gas             2          NaN                   true   \n...                  ...           ...          ...                    ...   \n21193                gas             2          NaN                   true   \n21194            fueloil             3          NaN                    NaN   \n21195            fueloil             4          NaN                   true   \n21196            fueloil             4          NaN                   true   \n21197                gas             3          NaN                   true   \n\n      outdoor_garden_surface wellnessEquipment_hasSwimmingPool  \\\n0                        NaN                               NaN   \n1                        NaN                               NaN   \n2                        NaN                               NaN   \n3                        NaN                               NaN   \n4                        NaN                               NaN   \n...                      ...                               ...   \n21193                    110                               NaN   \n21194                    NaN                               NaN   \n21195                    NaN                               NaN   \n21196                    NaN                               NaN   \n21197                    NaN                               NaN   \n\n      condition_isNewlyBuilt location          region             province  \\\n0                        NaN    Aalst  ['Vlaanderen']  ['Oost-Vlaanderen']   \n1                        NaN    Aalst  ['Vlaanderen']  ['Oost-Vlaanderen']   \n2                        NaN    Aalst  ['Vlaanderen']  ['Oost-Vlaanderen']   \n3                          1    Aalst  ['Vlaanderen']  ['Oost-Vlaanderen']   \n4                        NaN    Aalst  ['Vlaanderen']  ['Oost-Vlaanderen']   \n...                      ...      ...             ...                  ...   \n21193                    NaN  Brussel     ['Brussel']          ['Brussel']   \n21194                    NaN  Brussel     ['Brussel']          ['Brussel']   \n21195                    NaN  Brussel     ['Brussel']          ['Brussel']   \n21196                    NaN  Brussel     ['Brussel']          ['Brussel']   \n21197                    NaN  Brussel     ['Brussel']          ['Brussel']   \n\n          EPC  \n0      [None]  \n1      [None]  \n2      [None]  \n3      [None]  \n4      [None]  \n...       ...  \n21193  [None]  \n21194  [None]  \n21195  [None]  \n21196  [None]  \n21197  [None]  \n\n[21198 rows x 17 columns]",
      "text/html": "<div>\n<style scoped>\n    .dataframe tbody tr th:only-of-type {\n        vertical-align: middle;\n    }\n\n    .dataframe tbody tr th {\n        vertical-align: top;\n    }\n\n    .dataframe thead th {\n        text-align: right;\n    }\n</style>\n<table border=\"1\" class=\"dataframe\">\n  <thead>\n    <tr style=\"text-align: right;\">\n      <th></th>\n      <th>id</th>\n      <th>type</th>\n      <th>subtype</th>\n      <th>price</th>\n      <th>transactionType</th>\n      <th>kitchen_type</th>\n      <th>energy_heatingType</th>\n      <th>bedroom_count</th>\n      <th>land_surface</th>\n      <th>outdoor_terrace_exists</th>\n      <th>outdoor_garden_surface</th>\n      <th>wellnessEquipment_hasSwimmingPool</th>\n      <th>condition_isNewlyBuilt</th>\n      <th>location</th>\n      <th>region</th>\n      <th>province</th>\n      <th>EPC</th>\n    </tr>\n  </thead>\n  <tbody>\n    <tr>\n      <th>0</th>\n      <td>10163960</td>\n      <td>apartment</td>\n      <td>apartment</td>\n      <td>180000</td>\n      <td>for sale</td>\n      <td>installed</td>\n      <td>gas</td>\n      <td>2</td>\n      <td>NaN</td>\n      <td>true</td>\n      <td>NaN</td>\n      <td>NaN</td>\n      <td>NaN</td>\n      <td>Aalst</td>\n      <td>['Vlaanderen']</td>\n      <td>['Oost-Vlaanderen']</td>\n      <td>[None]</td>\n    </tr>\n    <tr>\n      <th>1</th>\n      <td>10164023</td>\n      <td>apartment</td>\n      <td>apartment</td>\n      <td>210000</td>\n      <td>for sale</td>\n      <td>not installed</td>\n      <td>gas</td>\n      <td>2</td>\n      <td>NaN</td>\n      <td>true</td>\n      <td>NaN</td>\n      <td>NaN</td>\n      <td>NaN</td>\n      <td>Aalst</td>\n      <td>['Vlaanderen']</td>\n      <td>['Oost-Vlaanderen']</td>\n      <td>[None]</td>\n    </tr>\n    <tr>\n      <th>2</th>\n      <td>10093468</td>\n      <td>apartment</td>\n      <td>apartment</td>\n      <td>299000</td>\n      <td>for sale</td>\n      <td>installed</td>\n      <td>gas</td>\n      <td>2</td>\n      <td>NaN</td>\n      <td>NaN</td>\n      <td>NaN</td>\n      <td>NaN</td>\n      <td>NaN</td>\n      <td>Aalst</td>\n      <td>['Vlaanderen']</td>\n      <td>['Oost-Vlaanderen']</td>\n      <td>[None]</td>\n    </tr>\n    <tr>\n      <th>3</th>\n      <td>10160241</td>\n      <td>apartment</td>\n      <td>apartment</td>\n      <td>375000</td>\n      <td>for sale</td>\n      <td>hyper equipped</td>\n      <td>gas</td>\n      <td>2</td>\n      <td>NaN</td>\n      <td>true</td>\n      <td>NaN</td>\n      <td>NaN</td>\n      <td>1</td>\n      <td>Aalst</td>\n      <td>['Vlaanderen']</td>\n      <td>['Oost-Vlaanderen']</td>\n      <td>[None]</td>\n    </tr>\n    <tr>\n      <th>4</th>\n      <td>10164025</td>\n      <td>apartment</td>\n      <td>apartment</td>\n      <td>259000</td>\n      <td>for sale</td>\n      <td>installed</td>\n      <td>gas</td>\n      <td>2</td>\n      <td>NaN</td>\n      <td>true</td>\n      <td>NaN</td>\n      <td>NaN</td>\n      <td>NaN</td>\n      <td>Aalst</td>\n      <td>['Vlaanderen']</td>\n      <td>['Oost-Vlaanderen']</td>\n      <td>[None]</td>\n    </tr>\n    <tr>\n      <th>...</th>\n      <td>...</td>\n      <td>...</td>\n      <td>...</td>\n      <td>...</td>\n      <td>...</td>\n      <td>...</td>\n      <td>...</td>\n      <td>...</td>\n      <td>...</td>\n      <td>...</td>\n      <td>...</td>\n      <td>...</td>\n      <td>...</td>\n      <td>...</td>\n      <td>...</td>\n      <td>...</td>\n      <td>...</td>\n    </tr>\n    <tr>\n      <th>21193</th>\n      <td>10066760</td>\n      <td>apartment</td>\n      <td>apartment</td>\n      <td>599000</td>\n      <td>for sale</td>\n      <td>hyper equipped</td>\n      <td>gas</td>\n      <td>2</td>\n      <td>NaN</td>\n      <td>true</td>\n      <td>110</td>\n      <td>NaN</td>\n      <td>NaN</td>\n      <td>Brussel</td>\n      <td>['Brussel']</td>\n      <td>['Brussel']</td>\n      <td>[None]</td>\n    </tr>\n    <tr>\n      <th>21194</th>\n      <td>10025476</td>\n      <td>apartment</td>\n      <td>apartment</td>\n      <td>600000</td>\n      <td>for sale</td>\n      <td>semi equipped</td>\n      <td>fueloil</td>\n      <td>3</td>\n      <td>NaN</td>\n      <td>NaN</td>\n      <td>NaN</td>\n      <td>NaN</td>\n      <td>NaN</td>\n      <td>Brussel</td>\n      <td>['Brussel']</td>\n      <td>['Brussel']</td>\n      <td>[None]</td>\n    </tr>\n    <tr>\n      <th>21195</th>\n      <td>10083841</td>\n      <td>apartment</td>\n      <td>apartment</td>\n      <td>619000</td>\n      <td>for sale</td>\n      <td>installed</td>\n      <td>fueloil</td>\n      <td>4</td>\n      <td>NaN</td>\n      <td>true</td>\n      <td>NaN</td>\n      <td>NaN</td>\n      <td>NaN</td>\n      <td>Brussel</td>\n      <td>['Brussel']</td>\n      <td>['Brussel']</td>\n      <td>[None]</td>\n    </tr>\n    <tr>\n      <th>21196</th>\n      <td>10083842</td>\n      <td>apartment</td>\n      <td>apartment</td>\n      <td>619000</td>\n      <td>for sale</td>\n      <td>installed</td>\n      <td>fueloil</td>\n      <td>4</td>\n      <td>NaN</td>\n      <td>true</td>\n      <td>NaN</td>\n      <td>NaN</td>\n      <td>NaN</td>\n      <td>Brussel</td>\n      <td>['Brussel']</td>\n      <td>['Brussel']</td>\n      <td>[None]</td>\n    </tr>\n    <tr>\n      <th>21197</th>\n      <td>10096315</td>\n      <td>apartment</td>\n      <td>penthouse</td>\n      <td>599900</td>\n      <td>for sale</td>\n      <td>hyper equipped</td>\n      <td>gas</td>\n      <td>3</td>\n      <td>NaN</td>\n      <td>true</td>\n      <td>NaN</td>\n      <td>NaN</td>\n      <td>NaN</td>\n      <td>Brussel</td>\n      <td>['Brussel']</td>\n      <td>['Brussel']</td>\n      <td>[None]</td>\n    </tr>\n  </tbody>\n</table>\n<p>21198 rows × 17 columns</p>\n</div>"
     },
     "metadata": {},
     "output_type": "display_data"
    }
   ],
   "source": [
    "df = pd.read_csv('immowebepc.csv')\n",
    "display(df)"
   ]
  },
  {
   "cell_type": "markdown",
   "source": [
    "### drop column swimmingpool"
   ],
   "metadata": {
    "collapsed": false
   }
  },
  {
   "cell_type": "code",
   "execution_count": 22,
   "outputs": [
    {
     "data": {
      "text/plain": "             id       type    subtype   price transactionType    kitchen_type  \\\n0      10163960  apartment  apartment  180000        for sale       installed   \n1      10164023  apartment  apartment  210000        for sale   not installed   \n2      10093468  apartment  apartment  299000        for sale       installed   \n3      10160241  apartment  apartment  375000        for sale  hyper equipped   \n4      10164025  apartment  apartment  259000        for sale       installed   \n...         ...        ...        ...     ...             ...             ...   \n21193  10066760  apartment  apartment  599000        for sale  hyper equipped   \n21194  10025476  apartment  apartment  600000        for sale   semi equipped   \n21195  10083841  apartment  apartment  619000        for sale       installed   \n21196  10083842  apartment  apartment  619000        for sale       installed   \n21197  10096315  apartment  penthouse  599900        for sale  hyper equipped   \n\n      energy_heatingType bedroom_count land_surface outdoor_terrace_exists  \\\n0                    gas             2          NaN                   true   \n1                    gas             2          NaN                   true   \n2                    gas             2          NaN                    NaN   \n3                    gas             2          NaN                   true   \n4                    gas             2          NaN                   true   \n...                  ...           ...          ...                    ...   \n21193                gas             2          NaN                   true   \n21194            fueloil             3          NaN                    NaN   \n21195            fueloil             4          NaN                   true   \n21196            fueloil             4          NaN                   true   \n21197                gas             3          NaN                   true   \n\n      outdoor_garden_surface condition_isNewlyBuilt location          region  \\\n0                        NaN                    NaN    Aalst  ['Vlaanderen']   \n1                        NaN                    NaN    Aalst  ['Vlaanderen']   \n2                        NaN                    NaN    Aalst  ['Vlaanderen']   \n3                        NaN                      1    Aalst  ['Vlaanderen']   \n4                        NaN                    NaN    Aalst  ['Vlaanderen']   \n...                      ...                    ...      ...             ...   \n21193                    110                    NaN  Brussel     ['Brussel']   \n21194                    NaN                    NaN  Brussel     ['Brussel']   \n21195                    NaN                    NaN  Brussel     ['Brussel']   \n21196                    NaN                    NaN  Brussel     ['Brussel']   \n21197                    NaN                    NaN  Brussel     ['Brussel']   \n\n                  province     EPC  \n0      ['Oost-Vlaanderen']  [None]  \n1      ['Oost-Vlaanderen']  [None]  \n2      ['Oost-Vlaanderen']  [None]  \n3      ['Oost-Vlaanderen']  [None]  \n4      ['Oost-Vlaanderen']  [None]  \n...                    ...     ...  \n21193          ['Brussel']  [None]  \n21194          ['Brussel']  [None]  \n21195          ['Brussel']  [None]  \n21196          ['Brussel']  [None]  \n21197          ['Brussel']  [None]  \n\n[21198 rows x 16 columns]",
      "text/html": "<div>\n<style scoped>\n    .dataframe tbody tr th:only-of-type {\n        vertical-align: middle;\n    }\n\n    .dataframe tbody tr th {\n        vertical-align: top;\n    }\n\n    .dataframe thead th {\n        text-align: right;\n    }\n</style>\n<table border=\"1\" class=\"dataframe\">\n  <thead>\n    <tr style=\"text-align: right;\">\n      <th></th>\n      <th>id</th>\n      <th>type</th>\n      <th>subtype</th>\n      <th>price</th>\n      <th>transactionType</th>\n      <th>kitchen_type</th>\n      <th>energy_heatingType</th>\n      <th>bedroom_count</th>\n      <th>land_surface</th>\n      <th>outdoor_terrace_exists</th>\n      <th>outdoor_garden_surface</th>\n      <th>condition_isNewlyBuilt</th>\n      <th>location</th>\n      <th>region</th>\n      <th>province</th>\n      <th>EPC</th>\n    </tr>\n  </thead>\n  <tbody>\n    <tr>\n      <th>0</th>\n      <td>10163960</td>\n      <td>apartment</td>\n      <td>apartment</td>\n      <td>180000</td>\n      <td>for sale</td>\n      <td>installed</td>\n      <td>gas</td>\n      <td>2</td>\n      <td>NaN</td>\n      <td>true</td>\n      <td>NaN</td>\n      <td>NaN</td>\n      <td>Aalst</td>\n      <td>['Vlaanderen']</td>\n      <td>['Oost-Vlaanderen']</td>\n      <td>[None]</td>\n    </tr>\n    <tr>\n      <th>1</th>\n      <td>10164023</td>\n      <td>apartment</td>\n      <td>apartment</td>\n      <td>210000</td>\n      <td>for sale</td>\n      <td>not installed</td>\n      <td>gas</td>\n      <td>2</td>\n      <td>NaN</td>\n      <td>true</td>\n      <td>NaN</td>\n      <td>NaN</td>\n      <td>Aalst</td>\n      <td>['Vlaanderen']</td>\n      <td>['Oost-Vlaanderen']</td>\n      <td>[None]</td>\n    </tr>\n    <tr>\n      <th>2</th>\n      <td>10093468</td>\n      <td>apartment</td>\n      <td>apartment</td>\n      <td>299000</td>\n      <td>for sale</td>\n      <td>installed</td>\n      <td>gas</td>\n      <td>2</td>\n      <td>NaN</td>\n      <td>NaN</td>\n      <td>NaN</td>\n      <td>NaN</td>\n      <td>Aalst</td>\n      <td>['Vlaanderen']</td>\n      <td>['Oost-Vlaanderen']</td>\n      <td>[None]</td>\n    </tr>\n    <tr>\n      <th>3</th>\n      <td>10160241</td>\n      <td>apartment</td>\n      <td>apartment</td>\n      <td>375000</td>\n      <td>for sale</td>\n      <td>hyper equipped</td>\n      <td>gas</td>\n      <td>2</td>\n      <td>NaN</td>\n      <td>true</td>\n      <td>NaN</td>\n      <td>1</td>\n      <td>Aalst</td>\n      <td>['Vlaanderen']</td>\n      <td>['Oost-Vlaanderen']</td>\n      <td>[None]</td>\n    </tr>\n    <tr>\n      <th>4</th>\n      <td>10164025</td>\n      <td>apartment</td>\n      <td>apartment</td>\n      <td>259000</td>\n      <td>for sale</td>\n      <td>installed</td>\n      <td>gas</td>\n      <td>2</td>\n      <td>NaN</td>\n      <td>true</td>\n      <td>NaN</td>\n      <td>NaN</td>\n      <td>Aalst</td>\n      <td>['Vlaanderen']</td>\n      <td>['Oost-Vlaanderen']</td>\n      <td>[None]</td>\n    </tr>\n    <tr>\n      <th>...</th>\n      <td>...</td>\n      <td>...</td>\n      <td>...</td>\n      <td>...</td>\n      <td>...</td>\n      <td>...</td>\n      <td>...</td>\n      <td>...</td>\n      <td>...</td>\n      <td>...</td>\n      <td>...</td>\n      <td>...</td>\n      <td>...</td>\n      <td>...</td>\n      <td>...</td>\n      <td>...</td>\n    </tr>\n    <tr>\n      <th>21193</th>\n      <td>10066760</td>\n      <td>apartment</td>\n      <td>apartment</td>\n      <td>599000</td>\n      <td>for sale</td>\n      <td>hyper equipped</td>\n      <td>gas</td>\n      <td>2</td>\n      <td>NaN</td>\n      <td>true</td>\n      <td>110</td>\n      <td>NaN</td>\n      <td>Brussel</td>\n      <td>['Brussel']</td>\n      <td>['Brussel']</td>\n      <td>[None]</td>\n    </tr>\n    <tr>\n      <th>21194</th>\n      <td>10025476</td>\n      <td>apartment</td>\n      <td>apartment</td>\n      <td>600000</td>\n      <td>for sale</td>\n      <td>semi equipped</td>\n      <td>fueloil</td>\n      <td>3</td>\n      <td>NaN</td>\n      <td>NaN</td>\n      <td>NaN</td>\n      <td>NaN</td>\n      <td>Brussel</td>\n      <td>['Brussel']</td>\n      <td>['Brussel']</td>\n      <td>[None]</td>\n    </tr>\n    <tr>\n      <th>21195</th>\n      <td>10083841</td>\n      <td>apartment</td>\n      <td>apartment</td>\n      <td>619000</td>\n      <td>for sale</td>\n      <td>installed</td>\n      <td>fueloil</td>\n      <td>4</td>\n      <td>NaN</td>\n      <td>true</td>\n      <td>NaN</td>\n      <td>NaN</td>\n      <td>Brussel</td>\n      <td>['Brussel']</td>\n      <td>['Brussel']</td>\n      <td>[None]</td>\n    </tr>\n    <tr>\n      <th>21196</th>\n      <td>10083842</td>\n      <td>apartment</td>\n      <td>apartment</td>\n      <td>619000</td>\n      <td>for sale</td>\n      <td>installed</td>\n      <td>fueloil</td>\n      <td>4</td>\n      <td>NaN</td>\n      <td>true</td>\n      <td>NaN</td>\n      <td>NaN</td>\n      <td>Brussel</td>\n      <td>['Brussel']</td>\n      <td>['Brussel']</td>\n      <td>[None]</td>\n    </tr>\n    <tr>\n      <th>21197</th>\n      <td>10096315</td>\n      <td>apartment</td>\n      <td>penthouse</td>\n      <td>599900</td>\n      <td>for sale</td>\n      <td>hyper equipped</td>\n      <td>gas</td>\n      <td>3</td>\n      <td>NaN</td>\n      <td>true</td>\n      <td>NaN</td>\n      <td>NaN</td>\n      <td>Brussel</td>\n      <td>['Brussel']</td>\n      <td>['Brussel']</td>\n      <td>[None]</td>\n    </tr>\n  </tbody>\n</table>\n<p>21198 rows × 16 columns</p>\n</div>"
     },
     "metadata": {},
     "output_type": "display_data"
    }
   ],
   "source": [
    "df.drop('wellnessEquipment_hasSwimmingPool', axis=1, inplace=True)\n",
    "display(df)"
   ],
   "metadata": {
    "collapsed": false,
    "pycharm": {
     "name": "#%%\n"
    }
   }
  },
  {
   "cell_type": "markdown",
   "source": [
    "### drop duplicate row base on same id"
   ],
   "metadata": {
    "collapsed": false
   }
  },
  {
   "cell_type": "code",
   "execution_count": 23,
   "outputs": [
    {
     "data": {
      "text/plain": "             id             type          subtype            price  \\\n249    10156559  apartment group  apartment group  495000 - 580000   \n10027  10116724            house            house           444000   \n10876  10164025        apartment        apartment           259000   \n10877  10160241        apartment        apartment           375000   \n10878  10164023        apartment        apartment           210000   \n...         ...              ...              ...              ...   \n21193  10066760        apartment        apartment           599000   \n21194  10025476        apartment        apartment           600000   \n21195  10083841        apartment        apartment           619000   \n21196  10083842        apartment        apartment           619000   \n21197  10096315        apartment        penthouse           599900   \n\n      transactionType    kitchen_type energy_heatingType bedroom_count  \\\n249          for sale             NaN                NaN           NaN   \n10027        for sale       installed                NaN             4   \n10876        for sale       installed                gas             2   \n10877        for sale  hyper equipped                gas             2   \n10878        for sale   not installed                gas             2   \n...               ...             ...                ...           ...   \n21193        for sale  hyper equipped                gas             2   \n21194        for sale   semi equipped            fueloil             3   \n21195        for sale       installed            fueloil             4   \n21196        for sale       installed            fueloil             4   \n21197        for sale  hyper equipped                gas             3   \n\n      land_surface outdoor_terrace_exists outdoor_garden_surface  \\\n249            NaN                    NaN                    NaN   \n10027          322                    NaN                    NaN   \n10876          NaN                   true                    NaN   \n10877          NaN                   true                    NaN   \n10878          NaN                   true                    NaN   \n...            ...                    ...                    ...   \n21193          NaN                   true                    110   \n21194          NaN                    NaN                    NaN   \n21195          NaN                   true                    NaN   \n21196          NaN                   true                    NaN   \n21197          NaN                   true                    NaN   \n\n      condition_isNewlyBuilt         location          region  \\\n249                        1          Brussel     ['Brussel']   \n10027                    NaN  Halle-Vilvoorde  ['Vlaanderen']   \n10876                    NaN            Aalst  ['Vlaanderen']   \n10877                      1            Aalst  ['Vlaanderen']   \n10878                    NaN            Aalst  ['Vlaanderen']   \n...                      ...              ...             ...   \n21193                    NaN          Brussel     ['Brussel']   \n21194                    NaN          Brussel     ['Brussel']   \n21195                    NaN          Brussel     ['Brussel']   \n21196                    NaN          Brussel     ['Brussel']   \n21197                    NaN          Brussel     ['Brussel']   \n\n                  province     EPC  \n249            ['Brussel']  [None]  \n10027   ['Vlaams Brabant']  [None]  \n10876  ['Oost-Vlaanderen']  [None]  \n10877  ['Oost-Vlaanderen']  [None]  \n10878  ['Oost-Vlaanderen']  [None]  \n...                    ...     ...  \n21193          ['Brussel']  [None]  \n21194          ['Brussel']  [None]  \n21195          ['Brussel']  [None]  \n21196          ['Brussel']  [None]  \n21197          ['Brussel']  [None]  \n\n[9993 rows x 16 columns]",
      "text/html": "<div>\n<style scoped>\n    .dataframe tbody tr th:only-of-type {\n        vertical-align: middle;\n    }\n\n    .dataframe tbody tr th {\n        vertical-align: top;\n    }\n\n    .dataframe thead th {\n        text-align: right;\n    }\n</style>\n<table border=\"1\" class=\"dataframe\">\n  <thead>\n    <tr style=\"text-align: right;\">\n      <th></th>\n      <th>id</th>\n      <th>type</th>\n      <th>subtype</th>\n      <th>price</th>\n      <th>transactionType</th>\n      <th>kitchen_type</th>\n      <th>energy_heatingType</th>\n      <th>bedroom_count</th>\n      <th>land_surface</th>\n      <th>outdoor_terrace_exists</th>\n      <th>outdoor_garden_surface</th>\n      <th>condition_isNewlyBuilt</th>\n      <th>location</th>\n      <th>region</th>\n      <th>province</th>\n      <th>EPC</th>\n    </tr>\n  </thead>\n  <tbody>\n    <tr>\n      <th>249</th>\n      <td>10156559</td>\n      <td>apartment group</td>\n      <td>apartment group</td>\n      <td>495000 - 580000</td>\n      <td>for sale</td>\n      <td>NaN</td>\n      <td>NaN</td>\n      <td>NaN</td>\n      <td>NaN</td>\n      <td>NaN</td>\n      <td>NaN</td>\n      <td>1</td>\n      <td>Brussel</td>\n      <td>['Brussel']</td>\n      <td>['Brussel']</td>\n      <td>[None]</td>\n    </tr>\n    <tr>\n      <th>10027</th>\n      <td>10116724</td>\n      <td>house</td>\n      <td>house</td>\n      <td>444000</td>\n      <td>for sale</td>\n      <td>installed</td>\n      <td>NaN</td>\n      <td>4</td>\n      <td>322</td>\n      <td>NaN</td>\n      <td>NaN</td>\n      <td>NaN</td>\n      <td>Halle-Vilvoorde</td>\n      <td>['Vlaanderen']</td>\n      <td>['Vlaams Brabant']</td>\n      <td>[None]</td>\n    </tr>\n    <tr>\n      <th>10876</th>\n      <td>10164025</td>\n      <td>apartment</td>\n      <td>apartment</td>\n      <td>259000</td>\n      <td>for sale</td>\n      <td>installed</td>\n      <td>gas</td>\n      <td>2</td>\n      <td>NaN</td>\n      <td>true</td>\n      <td>NaN</td>\n      <td>NaN</td>\n      <td>Aalst</td>\n      <td>['Vlaanderen']</td>\n      <td>['Oost-Vlaanderen']</td>\n      <td>[None]</td>\n    </tr>\n    <tr>\n      <th>10877</th>\n      <td>10160241</td>\n      <td>apartment</td>\n      <td>apartment</td>\n      <td>375000</td>\n      <td>for sale</td>\n      <td>hyper equipped</td>\n      <td>gas</td>\n      <td>2</td>\n      <td>NaN</td>\n      <td>true</td>\n      <td>NaN</td>\n      <td>1</td>\n      <td>Aalst</td>\n      <td>['Vlaanderen']</td>\n      <td>['Oost-Vlaanderen']</td>\n      <td>[None]</td>\n    </tr>\n    <tr>\n      <th>10878</th>\n      <td>10164023</td>\n      <td>apartment</td>\n      <td>apartment</td>\n      <td>210000</td>\n      <td>for sale</td>\n      <td>not installed</td>\n      <td>gas</td>\n      <td>2</td>\n      <td>NaN</td>\n      <td>true</td>\n      <td>NaN</td>\n      <td>NaN</td>\n      <td>Aalst</td>\n      <td>['Vlaanderen']</td>\n      <td>['Oost-Vlaanderen']</td>\n      <td>[None]</td>\n    </tr>\n    <tr>\n      <th>...</th>\n      <td>...</td>\n      <td>...</td>\n      <td>...</td>\n      <td>...</td>\n      <td>...</td>\n      <td>...</td>\n      <td>...</td>\n      <td>...</td>\n      <td>...</td>\n      <td>...</td>\n      <td>...</td>\n      <td>...</td>\n      <td>...</td>\n      <td>...</td>\n      <td>...</td>\n      <td>...</td>\n    </tr>\n    <tr>\n      <th>21193</th>\n      <td>10066760</td>\n      <td>apartment</td>\n      <td>apartment</td>\n      <td>599000</td>\n      <td>for sale</td>\n      <td>hyper equipped</td>\n      <td>gas</td>\n      <td>2</td>\n      <td>NaN</td>\n      <td>true</td>\n      <td>110</td>\n      <td>NaN</td>\n      <td>Brussel</td>\n      <td>['Brussel']</td>\n      <td>['Brussel']</td>\n      <td>[None]</td>\n    </tr>\n    <tr>\n      <th>21194</th>\n      <td>10025476</td>\n      <td>apartment</td>\n      <td>apartment</td>\n      <td>600000</td>\n      <td>for sale</td>\n      <td>semi equipped</td>\n      <td>fueloil</td>\n      <td>3</td>\n      <td>NaN</td>\n      <td>NaN</td>\n      <td>NaN</td>\n      <td>NaN</td>\n      <td>Brussel</td>\n      <td>['Brussel']</td>\n      <td>['Brussel']</td>\n      <td>[None]</td>\n    </tr>\n    <tr>\n      <th>21195</th>\n      <td>10083841</td>\n      <td>apartment</td>\n      <td>apartment</td>\n      <td>619000</td>\n      <td>for sale</td>\n      <td>installed</td>\n      <td>fueloil</td>\n      <td>4</td>\n      <td>NaN</td>\n      <td>true</td>\n      <td>NaN</td>\n      <td>NaN</td>\n      <td>Brussel</td>\n      <td>['Brussel']</td>\n      <td>['Brussel']</td>\n      <td>[None]</td>\n    </tr>\n    <tr>\n      <th>21196</th>\n      <td>10083842</td>\n      <td>apartment</td>\n      <td>apartment</td>\n      <td>619000</td>\n      <td>for sale</td>\n      <td>installed</td>\n      <td>fueloil</td>\n      <td>4</td>\n      <td>NaN</td>\n      <td>true</td>\n      <td>NaN</td>\n      <td>NaN</td>\n      <td>Brussel</td>\n      <td>['Brussel']</td>\n      <td>['Brussel']</td>\n      <td>[None]</td>\n    </tr>\n    <tr>\n      <th>21197</th>\n      <td>10096315</td>\n      <td>apartment</td>\n      <td>penthouse</td>\n      <td>599900</td>\n      <td>for sale</td>\n      <td>hyper equipped</td>\n      <td>gas</td>\n      <td>3</td>\n      <td>NaN</td>\n      <td>true</td>\n      <td>NaN</td>\n      <td>NaN</td>\n      <td>Brussel</td>\n      <td>['Brussel']</td>\n      <td>['Brussel']</td>\n      <td>[None]</td>\n    </tr>\n  </tbody>\n</table>\n<p>9993 rows × 16 columns</p>\n</div>"
     },
     "metadata": {},
     "output_type": "display_data"
    }
   ],
   "source": [
    "dataset_2 = pd.DataFrame(df)\n",
    "dataset_2_non_dup = dataset_2.drop_duplicates(subset='id', keep='last')\n",
    "\n",
    "display(dataset_2_non_dup)"
   ],
   "metadata": {
    "collapsed": false,
    "pycharm": {
     "name": "#%%\n"
    }
   }
  },
  {
   "cell_type": "markdown",
   "source": [
    "### change column name"
   ],
   "metadata": {
    "collapsed": false
   }
  },
  {
   "cell_type": "code",
   "execution_count": 24,
   "outputs": [
    {
     "data": {
      "text/plain": "             id             type          subtype            price  \\\n249    10156559  apartment group  apartment group  495000 - 580000   \n10027  10116724            house            house           444000   \n10876  10164025        apartment        apartment           259000   \n10877  10160241        apartment        apartment           375000   \n10878  10164023        apartment        apartment           210000   \n...         ...              ...              ...              ...   \n21193  10066760        apartment        apartment           599000   \n21194  10025476        apartment        apartment           600000   \n21195  10083841        apartment        apartment           619000   \n21196  10083842        apartment        apartment           619000   \n21197  10096315        apartment        penthouse           599900   \n\n      transactionType         kitchen  heating bedroom land surface terrace  \\\n249          for sale             NaN      NaN     NaN          NaN     NaN   \n10027        for sale       installed      NaN       4          322     NaN   \n10876        for sale       installed      gas       2          NaN    true   \n10877        for sale  hyper equipped      gas       2          NaN    true   \n10878        for sale   not installed      gas       2          NaN    true   \n...               ...             ...      ...     ...          ...     ...   \n21193        for sale  hyper equipped      gas       2          NaN    true   \n21194        for sale   semi equipped  fueloil       3          NaN     NaN   \n21195        for sale       installed  fueloil       4          NaN    true   \n21196        for sale       installed  fueloil       4          NaN    true   \n21197        for sale  hyper equipped      gas       3          NaN    true   \n\n      garden surface property condition         location          region  \\\n249              NaN                  1          Brussel     ['Brussel']   \n10027            NaN                NaN  Halle-Vilvoorde  ['Vlaanderen']   \n10876            NaN                NaN            Aalst  ['Vlaanderen']   \n10877            NaN                  1            Aalst  ['Vlaanderen']   \n10878            NaN                NaN            Aalst  ['Vlaanderen']   \n...              ...                ...              ...             ...   \n21193            110                NaN          Brussel     ['Brussel']   \n21194            NaN                NaN          Brussel     ['Brussel']   \n21195            NaN                NaN          Brussel     ['Brussel']   \n21196            NaN                NaN          Brussel     ['Brussel']   \n21197            NaN                NaN          Brussel     ['Brussel']   \n\n                  province     EPC  \n249            ['Brussel']  [None]  \n10027   ['Vlaams Brabant']  [None]  \n10876  ['Oost-Vlaanderen']  [None]  \n10877  ['Oost-Vlaanderen']  [None]  \n10878  ['Oost-Vlaanderen']  [None]  \n...                    ...     ...  \n21193          ['Brussel']  [None]  \n21194          ['Brussel']  [None]  \n21195          ['Brussel']  [None]  \n21196          ['Brussel']  [None]  \n21197          ['Brussel']  [None]  \n\n[9993 rows x 16 columns]",
      "text/html": "<div>\n<style scoped>\n    .dataframe tbody tr th:only-of-type {\n        vertical-align: middle;\n    }\n\n    .dataframe tbody tr th {\n        vertical-align: top;\n    }\n\n    .dataframe thead th {\n        text-align: right;\n    }\n</style>\n<table border=\"1\" class=\"dataframe\">\n  <thead>\n    <tr style=\"text-align: right;\">\n      <th></th>\n      <th>id</th>\n      <th>type</th>\n      <th>subtype</th>\n      <th>price</th>\n      <th>transactionType</th>\n      <th>kitchen</th>\n      <th>heating</th>\n      <th>bedroom</th>\n      <th>land surface</th>\n      <th>terrace</th>\n      <th>garden surface</th>\n      <th>property condition</th>\n      <th>location</th>\n      <th>region</th>\n      <th>province</th>\n      <th>EPC</th>\n    </tr>\n  </thead>\n  <tbody>\n    <tr>\n      <th>249</th>\n      <td>10156559</td>\n      <td>apartment group</td>\n      <td>apartment group</td>\n      <td>495000 - 580000</td>\n      <td>for sale</td>\n      <td>NaN</td>\n      <td>NaN</td>\n      <td>NaN</td>\n      <td>NaN</td>\n      <td>NaN</td>\n      <td>NaN</td>\n      <td>1</td>\n      <td>Brussel</td>\n      <td>['Brussel']</td>\n      <td>['Brussel']</td>\n      <td>[None]</td>\n    </tr>\n    <tr>\n      <th>10027</th>\n      <td>10116724</td>\n      <td>house</td>\n      <td>house</td>\n      <td>444000</td>\n      <td>for sale</td>\n      <td>installed</td>\n      <td>NaN</td>\n      <td>4</td>\n      <td>322</td>\n      <td>NaN</td>\n      <td>NaN</td>\n      <td>NaN</td>\n      <td>Halle-Vilvoorde</td>\n      <td>['Vlaanderen']</td>\n      <td>['Vlaams Brabant']</td>\n      <td>[None]</td>\n    </tr>\n    <tr>\n      <th>10876</th>\n      <td>10164025</td>\n      <td>apartment</td>\n      <td>apartment</td>\n      <td>259000</td>\n      <td>for sale</td>\n      <td>installed</td>\n      <td>gas</td>\n      <td>2</td>\n      <td>NaN</td>\n      <td>true</td>\n      <td>NaN</td>\n      <td>NaN</td>\n      <td>Aalst</td>\n      <td>['Vlaanderen']</td>\n      <td>['Oost-Vlaanderen']</td>\n      <td>[None]</td>\n    </tr>\n    <tr>\n      <th>10877</th>\n      <td>10160241</td>\n      <td>apartment</td>\n      <td>apartment</td>\n      <td>375000</td>\n      <td>for sale</td>\n      <td>hyper equipped</td>\n      <td>gas</td>\n      <td>2</td>\n      <td>NaN</td>\n      <td>true</td>\n      <td>NaN</td>\n      <td>1</td>\n      <td>Aalst</td>\n      <td>['Vlaanderen']</td>\n      <td>['Oost-Vlaanderen']</td>\n      <td>[None]</td>\n    </tr>\n    <tr>\n      <th>10878</th>\n      <td>10164023</td>\n      <td>apartment</td>\n      <td>apartment</td>\n      <td>210000</td>\n      <td>for sale</td>\n      <td>not installed</td>\n      <td>gas</td>\n      <td>2</td>\n      <td>NaN</td>\n      <td>true</td>\n      <td>NaN</td>\n      <td>NaN</td>\n      <td>Aalst</td>\n      <td>['Vlaanderen']</td>\n      <td>['Oost-Vlaanderen']</td>\n      <td>[None]</td>\n    </tr>\n    <tr>\n      <th>...</th>\n      <td>...</td>\n      <td>...</td>\n      <td>...</td>\n      <td>...</td>\n      <td>...</td>\n      <td>...</td>\n      <td>...</td>\n      <td>...</td>\n      <td>...</td>\n      <td>...</td>\n      <td>...</td>\n      <td>...</td>\n      <td>...</td>\n      <td>...</td>\n      <td>...</td>\n      <td>...</td>\n    </tr>\n    <tr>\n      <th>21193</th>\n      <td>10066760</td>\n      <td>apartment</td>\n      <td>apartment</td>\n      <td>599000</td>\n      <td>for sale</td>\n      <td>hyper equipped</td>\n      <td>gas</td>\n      <td>2</td>\n      <td>NaN</td>\n      <td>true</td>\n      <td>110</td>\n      <td>NaN</td>\n      <td>Brussel</td>\n      <td>['Brussel']</td>\n      <td>['Brussel']</td>\n      <td>[None]</td>\n    </tr>\n    <tr>\n      <th>21194</th>\n      <td>10025476</td>\n      <td>apartment</td>\n      <td>apartment</td>\n      <td>600000</td>\n      <td>for sale</td>\n      <td>semi equipped</td>\n      <td>fueloil</td>\n      <td>3</td>\n      <td>NaN</td>\n      <td>NaN</td>\n      <td>NaN</td>\n      <td>NaN</td>\n      <td>Brussel</td>\n      <td>['Brussel']</td>\n      <td>['Brussel']</td>\n      <td>[None]</td>\n    </tr>\n    <tr>\n      <th>21195</th>\n      <td>10083841</td>\n      <td>apartment</td>\n      <td>apartment</td>\n      <td>619000</td>\n      <td>for sale</td>\n      <td>installed</td>\n      <td>fueloil</td>\n      <td>4</td>\n      <td>NaN</td>\n      <td>true</td>\n      <td>NaN</td>\n      <td>NaN</td>\n      <td>Brussel</td>\n      <td>['Brussel']</td>\n      <td>['Brussel']</td>\n      <td>[None]</td>\n    </tr>\n    <tr>\n      <th>21196</th>\n      <td>10083842</td>\n      <td>apartment</td>\n      <td>apartment</td>\n      <td>619000</td>\n      <td>for sale</td>\n      <td>installed</td>\n      <td>fueloil</td>\n      <td>4</td>\n      <td>NaN</td>\n      <td>true</td>\n      <td>NaN</td>\n      <td>NaN</td>\n      <td>Brussel</td>\n      <td>['Brussel']</td>\n      <td>['Brussel']</td>\n      <td>[None]</td>\n    </tr>\n    <tr>\n      <th>21197</th>\n      <td>10096315</td>\n      <td>apartment</td>\n      <td>penthouse</td>\n      <td>599900</td>\n      <td>for sale</td>\n      <td>hyper equipped</td>\n      <td>gas</td>\n      <td>3</td>\n      <td>NaN</td>\n      <td>true</td>\n      <td>NaN</td>\n      <td>NaN</td>\n      <td>Brussel</td>\n      <td>['Brussel']</td>\n      <td>['Brussel']</td>\n      <td>[None]</td>\n    </tr>\n  </tbody>\n</table>\n<p>9993 rows × 16 columns</p>\n</div>"
     },
     "metadata": {},
     "output_type": "display_data"
    }
   ],
   "source": [
    "dataset_3 = pd.DataFrame(dataset_2_non_dup)\n",
    "dataset_3.rename(columns={'kitchen_type':'kitchen', 'energy_heatingType':'heating', 'bedroom_count': 'bedroom', 'land_surface':'land surface', 'outdoor_terrace_exists':'terrace', 'outdoor_garden_surface': 'garden surface', 'condition_isNewlyBuilt':'property condition'}, inplace=True)\n",
    "display(dataset_3)"
   ],
   "metadata": {
    "collapsed": false,
    "pycharm": {
     "name": "#%%\n"
    }
   }
  },
  {
   "cell_type": "markdown",
   "source": [
    "### remove [] and ''"
   ],
   "metadata": {
    "collapsed": false
   }
  },
  {
   "cell_type": "code",
   "execution_count": 49,
   "outputs": [
    {
     "data": {
      "text/plain": "             id             type          subtype            price  \\\n249    10156559  apartment group  apartment group  495000 - 580000   \n10027  10116724            house            house           444000   \n10876  10164025        apartment        apartment           259000   \n10877  10160241        apartment        apartment           375000   \n10878  10164023        apartment        apartment           210000   \n...         ...              ...              ...              ...   \n21193  10066760        apartment        apartment           599000   \n21194  10025476        apartment        apartment           600000   \n21195  10083841        apartment        apartment           619000   \n21196  10083842        apartment        apartment           619000   \n21197  10096315        apartment        penthouse           599900   \n\n      transactionType         kitchen  heating bedroom land surface terrace  \\\n249          for sale             NaN      NaN     NaN          NaN     NaN   \n10027        for sale       installed      NaN       4          322     NaN   \n10876        for sale       installed      gas       2          NaN    true   \n10877        for sale  hyper equipped      gas       2          NaN    true   \n10878        for sale   not installed      gas       2          NaN    true   \n...               ...             ...      ...     ...          ...     ...   \n21193        for sale  hyper equipped      gas       2          NaN    true   \n21194        for sale   semi equipped  fueloil       3          NaN     NaN   \n21195        for sale       installed  fueloil       4          NaN    true   \n21196        for sale       installed  fueloil       4          NaN    true   \n21197        for sale  hyper equipped      gas       3          NaN    true   \n\n      garden surface property condition         location      region  \\\n249              NaN                  1          Brussel     Brussel   \n10027            NaN                NaN  Halle-Vilvoorde  Vlaanderen   \n10876            NaN                NaN            Aalst  Vlaanderen   \n10877            NaN                  1            Aalst  Vlaanderen   \n10878            NaN                NaN            Aalst  Vlaanderen   \n...              ...                ...              ...         ...   \n21193            110                NaN          Brussel     Brussel   \n21194            NaN                NaN          Brussel     Brussel   \n21195            NaN                NaN          Brussel     Brussel   \n21196            NaN                NaN          Brussel     Brussel   \n21197            NaN                NaN          Brussel     Brussel   \n\n              province   EPC  \n249            Brussel  None  \n10027    VlaamsBrabant  None  \n10876  Oost-Vlaanderen  None  \n10877  Oost-Vlaanderen  None  \n10878  Oost-Vlaanderen  None  \n...                ...   ...  \n21193          Brussel  None  \n21194          Brussel  None  \n21195          Brussel  None  \n21196          Brussel  None  \n21197          Brussel  None  \n\n[9993 rows x 16 columns]",
      "text/html": "<div>\n<style scoped>\n    .dataframe tbody tr th:only-of-type {\n        vertical-align: middle;\n    }\n\n    .dataframe tbody tr th {\n        vertical-align: top;\n    }\n\n    .dataframe thead th {\n        text-align: right;\n    }\n</style>\n<table border=\"1\" class=\"dataframe\">\n  <thead>\n    <tr style=\"text-align: right;\">\n      <th></th>\n      <th>id</th>\n      <th>type</th>\n      <th>subtype</th>\n      <th>price</th>\n      <th>transactionType</th>\n      <th>kitchen</th>\n      <th>heating</th>\n      <th>bedroom</th>\n      <th>land surface</th>\n      <th>terrace</th>\n      <th>garden surface</th>\n      <th>property condition</th>\n      <th>location</th>\n      <th>region</th>\n      <th>province</th>\n      <th>EPC</th>\n    </tr>\n  </thead>\n  <tbody>\n    <tr>\n      <th>249</th>\n      <td>10156559</td>\n      <td>apartment group</td>\n      <td>apartment group</td>\n      <td>495000 - 580000</td>\n      <td>for sale</td>\n      <td>NaN</td>\n      <td>NaN</td>\n      <td>NaN</td>\n      <td>NaN</td>\n      <td>NaN</td>\n      <td>NaN</td>\n      <td>1</td>\n      <td>Brussel</td>\n      <td>Brussel</td>\n      <td>Brussel</td>\n      <td>None</td>\n    </tr>\n    <tr>\n      <th>10027</th>\n      <td>10116724</td>\n      <td>house</td>\n      <td>house</td>\n      <td>444000</td>\n      <td>for sale</td>\n      <td>installed</td>\n      <td>NaN</td>\n      <td>4</td>\n      <td>322</td>\n      <td>NaN</td>\n      <td>NaN</td>\n      <td>NaN</td>\n      <td>Halle-Vilvoorde</td>\n      <td>Vlaanderen</td>\n      <td>VlaamsBrabant</td>\n      <td>None</td>\n    </tr>\n    <tr>\n      <th>10876</th>\n      <td>10164025</td>\n      <td>apartment</td>\n      <td>apartment</td>\n      <td>259000</td>\n      <td>for sale</td>\n      <td>installed</td>\n      <td>gas</td>\n      <td>2</td>\n      <td>NaN</td>\n      <td>true</td>\n      <td>NaN</td>\n      <td>NaN</td>\n      <td>Aalst</td>\n      <td>Vlaanderen</td>\n      <td>Oost-Vlaanderen</td>\n      <td>None</td>\n    </tr>\n    <tr>\n      <th>10877</th>\n      <td>10160241</td>\n      <td>apartment</td>\n      <td>apartment</td>\n      <td>375000</td>\n      <td>for sale</td>\n      <td>hyper equipped</td>\n      <td>gas</td>\n      <td>2</td>\n      <td>NaN</td>\n      <td>true</td>\n      <td>NaN</td>\n      <td>1</td>\n      <td>Aalst</td>\n      <td>Vlaanderen</td>\n      <td>Oost-Vlaanderen</td>\n      <td>None</td>\n    </tr>\n    <tr>\n      <th>10878</th>\n      <td>10164023</td>\n      <td>apartment</td>\n      <td>apartment</td>\n      <td>210000</td>\n      <td>for sale</td>\n      <td>not installed</td>\n      <td>gas</td>\n      <td>2</td>\n      <td>NaN</td>\n      <td>true</td>\n      <td>NaN</td>\n      <td>NaN</td>\n      <td>Aalst</td>\n      <td>Vlaanderen</td>\n      <td>Oost-Vlaanderen</td>\n      <td>None</td>\n    </tr>\n    <tr>\n      <th>...</th>\n      <td>...</td>\n      <td>...</td>\n      <td>...</td>\n      <td>...</td>\n      <td>...</td>\n      <td>...</td>\n      <td>...</td>\n      <td>...</td>\n      <td>...</td>\n      <td>...</td>\n      <td>...</td>\n      <td>...</td>\n      <td>...</td>\n      <td>...</td>\n      <td>...</td>\n      <td>...</td>\n    </tr>\n    <tr>\n      <th>21193</th>\n      <td>10066760</td>\n      <td>apartment</td>\n      <td>apartment</td>\n      <td>599000</td>\n      <td>for sale</td>\n      <td>hyper equipped</td>\n      <td>gas</td>\n      <td>2</td>\n      <td>NaN</td>\n      <td>true</td>\n      <td>110</td>\n      <td>NaN</td>\n      <td>Brussel</td>\n      <td>Brussel</td>\n      <td>Brussel</td>\n      <td>None</td>\n    </tr>\n    <tr>\n      <th>21194</th>\n      <td>10025476</td>\n      <td>apartment</td>\n      <td>apartment</td>\n      <td>600000</td>\n      <td>for sale</td>\n      <td>semi equipped</td>\n      <td>fueloil</td>\n      <td>3</td>\n      <td>NaN</td>\n      <td>NaN</td>\n      <td>NaN</td>\n      <td>NaN</td>\n      <td>Brussel</td>\n      <td>Brussel</td>\n      <td>Brussel</td>\n      <td>None</td>\n    </tr>\n    <tr>\n      <th>21195</th>\n      <td>10083841</td>\n      <td>apartment</td>\n      <td>apartment</td>\n      <td>619000</td>\n      <td>for sale</td>\n      <td>installed</td>\n      <td>fueloil</td>\n      <td>4</td>\n      <td>NaN</td>\n      <td>true</td>\n      <td>NaN</td>\n      <td>NaN</td>\n      <td>Brussel</td>\n      <td>Brussel</td>\n      <td>Brussel</td>\n      <td>None</td>\n    </tr>\n    <tr>\n      <th>21196</th>\n      <td>10083842</td>\n      <td>apartment</td>\n      <td>apartment</td>\n      <td>619000</td>\n      <td>for sale</td>\n      <td>installed</td>\n      <td>fueloil</td>\n      <td>4</td>\n      <td>NaN</td>\n      <td>true</td>\n      <td>NaN</td>\n      <td>NaN</td>\n      <td>Brussel</td>\n      <td>Brussel</td>\n      <td>Brussel</td>\n      <td>None</td>\n    </tr>\n    <tr>\n      <th>21197</th>\n      <td>10096315</td>\n      <td>apartment</td>\n      <td>penthouse</td>\n      <td>599900</td>\n      <td>for sale</td>\n      <td>hyper equipped</td>\n      <td>gas</td>\n      <td>3</td>\n      <td>NaN</td>\n      <td>true</td>\n      <td>NaN</td>\n      <td>NaN</td>\n      <td>Brussel</td>\n      <td>Brussel</td>\n      <td>Brussel</td>\n      <td>None</td>\n    </tr>\n  </tbody>\n</table>\n<p>9993 rows × 16 columns</p>\n</div>"
     },
     "metadata": {},
     "output_type": "display_data"
    }
   ],
   "source": [
    "dataset_4 = pd.DataFrame(dataset_3)\n",
    "column_to_check = ['region', 'province', 'EPC']\n",
    "dataset_4[column_to_check] = dataset_4[column_to_check].replace(r'[[\\[\\]\\'\\\" ]', '', regex=True)\n",
    "\n",
    "display(dataset_4)"
   ],
   "metadata": {
    "collapsed": false,
    "pycharm": {
     "name": "#%%\n"
    }
   }
  },
  {
   "cell_type": "markdown",
   "source": [
    "average price of each province and each region"
   ],
   "metadata": {
    "collapsed": false
   }
  },
  {
   "cell_type": "code",
   "execution_count": 61,
   "outputs": [
    {
     "name": "stdout",
     "output_type": "stream",
     "text": [
      "             id             type          subtype            price  \\\n",
      "249    10156559  apartment group  apartment group  495000 - 580000   \n",
      "10881  10163793      house group      house group  309000 - 353000   \n",
      "10882  10164465  apartment group  apartment group  137500 - 160500   \n",
      "10883  10077980      house group      house group  332000 - 378500   \n",
      "10888  10164672  apartment group  apartment group  489000 - 849000   \n",
      "...         ...              ...              ...              ...   \n",
      "18525  10068530      house group      house group  498000 - 498000   \n",
      "18526   9787230      house group      house group  529200 - 638000   \n",
      "18527  10085546      house group      house group  575000 - 584000   \n",
      "18531   9656630      house group      house group  635000 - 645000   \n",
      "19965  10164219  apartment group  apartment group  405000 - 556900   \n",
      "\n",
      "      transactionType kitchen heating bedroom land surface terrace  \\\n",
      "249          for sale     NaN     NaN     NaN          NaN     NaN   \n",
      "10881        for sale     NaN     NaN     NaN          NaN     NaN   \n",
      "10882        for sale     NaN     NaN     NaN          NaN     NaN   \n",
      "10883        for sale     NaN     NaN     NaN          NaN     NaN   \n",
      "10888        for sale     NaN     NaN     NaN          NaN     NaN   \n",
      "...               ...     ...     ...     ...          ...     ...   \n",
      "18525        for sale     NaN     NaN     NaN          NaN     NaN   \n",
      "18526        for sale     NaN     NaN     NaN          NaN     NaN   \n",
      "18527        for sale     NaN     NaN     NaN          NaN     NaN   \n",
      "18531        for sale     NaN     NaN     NaN          NaN     NaN   \n",
      "19965        for sale     NaN     NaN     NaN          NaN     NaN   \n",
      "\n",
      "      garden surface property condition         location      region  \\\n",
      "249              NaN                  1          Brussel     Brussel   \n",
      "10881            NaN                  1            Aalst  Vlaanderen   \n",
      "10882            NaN                  1            Aalst  Vlaanderen   \n",
      "10883            NaN                  1            Aalst  Vlaanderen   \n",
      "10888            NaN                  1            Aalst  Vlaanderen   \n",
      "...              ...                ...              ...         ...   \n",
      "18525            NaN                  1         Turnhout  Vlaanderen   \n",
      "18526            NaN                  1         Turnhout  Vlaanderen   \n",
      "18527            NaN                  1         Turnhout  Vlaanderen   \n",
      "18531            NaN                  1         Turnhout  Vlaanderen   \n",
      "19965            NaN                  1  Halle-Vilvoorde  Vlaanderen   \n",
      "\n",
      "              province   EPC  \n",
      "249            Brussel  None  \n",
      "10881  Oost-Vlaanderen  None  \n",
      "10882  Oost-Vlaanderen  None  \n",
      "10883  Oost-Vlaanderen  None  \n",
      "10888  Oost-Vlaanderen  None  \n",
      "...                ...   ...  \n",
      "18525        Antwerpen  None  \n",
      "18526        Antwerpen  None  \n",
      "18527        Antwerpen  None  \n",
      "18531        Antwerpen  None  \n",
      "19965    VlaamsBrabant  None  \n",
      "\n",
      "[1266 rows x 16 columns]\n"
     ]
    }
   ],
   "source": [
    "\n",
    "#filter price with range\n",
    "dataset_5 = pd.DataFrame(dataset_4)\n",
    "dataset_5 = dataset_5[dataset_5['price'].str.contains('-')]\n",
    "print(dataset_5)\n",
    "\n",
    "\n",
    "\n",
    "\n",
    "\n"
   ],
   "metadata": {
    "collapsed": false,
    "pycharm": {
     "name": "#%%\n"
    }
   }
  },
  {
   "cell_type": "markdown",
   "source": [
    "house & apartment number in different region"
   ],
   "metadata": {
    "collapsed": false
   }
  },
  {
   "cell_type": "code",
   "execution_count": null,
   "outputs": [],
   "source": [],
   "metadata": {
    "collapsed": false,
    "pycharm": {
     "name": "#%%\n"
    }
   }
  },
  {
   "cell_type": "markdown",
   "source": [
    "number of houses on different EPC level"
   ],
   "metadata": {
    "collapsed": false
   }
  },
  {
   "cell_type": "code",
   "execution_count": null,
   "outputs": [],
   "source": [],
   "metadata": {
    "collapsed": false,
    "pycharm": {
     "name": "#%%\n"
    }
   }
  },
  {
   "cell_type": "markdown",
   "source": [],
   "metadata": {
    "collapsed": false
   }
  }
 ],
 "metadata": {
  "kernelspec": {
   "display_name": "Python 3",
   "language": "python",
   "name": "python3"
  },
  "language_info": {
   "codemirror_mode": {
    "name": "ipython",
    "version": 2
   },
   "file_extension": ".py",
   "mimetype": "text/x-python",
   "name": "python",
   "nbconvert_exporter": "python",
   "pygments_lexer": "ipython2",
   "version": "2.7.6"
  }
 },
 "nbformat": 4,
 "nbformat_minor": 0
}