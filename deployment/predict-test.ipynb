{
 "cells": [
  {
   "cell_type": "code",
   "execution_count": 14,
   "metadata": {
    "collapsed": true
   },
   "outputs": [],
   "source": [
    "import joblib\n",
    "from sklearn.feature_extraction import DictVectorizer\n",
    "import requests"
   ]
  },
  {
   "cell_type": "code",
   "execution_count": null,
   "outputs": [],
   "source": [
    "url = 'http://localhost:5000/predict'"
   ],
   "metadata": {
    "collapsed": false,
    "pycharm": {
     "name": "#%%\n"
    }
   }
  },
  {
   "cell_type": "code",
   "execution_count": 16,
   "outputs": [],
   "source": [
    "property = {'Type': 'HOUSE',\n",
    " 'BedroomCount': 3,\n",
    " 'Province': 'Hainaut',\n",
    " 'locality': 'Boussu',\n",
    " 'Region': 'Wallonie',\n",
    " 'street': 'Rue du Petit Bruxelles',\n",
    " 'RegionCode': 'WALLONIE',\n",
    " 'NetHabitableSurface': 160,\n",
    " 'HasBasement': False,\n",
    " 'ConstructionYear': 37,\n",
    " 'FacadeCount': 2,\n",
    " 'HasLift': False,\n",
    " 'FloodZoneType': 'NON_FLOOD_ZONE',\n",
    " 'HeatingType': 'GAS',\n",
    " 'IsDoubleGlaze': True,\n",
    " 'HasBalcony': False,\n",
    " 'HasGarden': True,\n",
    " 'KitchekType': 'SEMI_EQUIPPED'}"
   ],
   "metadata": {
    "collapsed": false,
    "pycharm": {
     "name": "#%%\n"
    }
   }
  },
  {
   "cell_type": "code",
   "execution_count": null,
   "outputs": [],
   "source": [
    "import requests\n",
    "\n",
    "response = requests.post(url, json=property).json()\n",
    "print(response)"
   ],
   "metadata": {
    "collapsed": false,
    "pycharm": {
     "name": "#%%\n",
     "is_executing": true
    }
   }
  },
  {
   "cell_type": "code",
   "execution_count": null,
   "outputs": [],
   "source": [],
   "metadata": {
    "collapsed": false,
    "pycharm": {
     "name": "#%%\n"
    }
   }
  }
 ],
 "metadata": {
  "kernelspec": {
   "display_name": "Python 3",
   "language": "python",
   "name": "python3"
  },
  "language_info": {
   "codemirror_mode": {
    "name": "ipython",
    "version": 2
   },
   "file_extension": ".py",
   "mimetype": "text/x-python",
   "name": "python",
   "nbconvert_exporter": "python",
   "pygments_lexer": "ipython2",
   "version": "2.7.6"
  }
 },
 "nbformat": 4,
 "nbformat_minor": 0
}