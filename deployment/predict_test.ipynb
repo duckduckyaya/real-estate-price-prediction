{
 "cells": [
  {
   "cell_type": "code",
   "execution_count": null,
   "metadata": {},
   "outputs": [],
   "source": [
    "import requests\n",
    "url = 'http://localhost:5000/predict'\n",
    "\n",
    "data = {'Type': 'HOUSE',\n",
    " 'Price': 328330,\n",
    " 'BedroomCount': 3,\n",
    " 'Province': 'Limburg',\n",
    " 'locality': 'Zonhoven',\n",
    " 'Region': 'Flanders',\n",
    " 'NetHabitableSurface': 148,\n",
    " 'ConstructionYear': 37,\n",
    " 'FacadeCount': 3,\n",
    " 'HeatingType': 'GAS',\n",
    " 'IsDoubleGlaze': True}\n",
    "\n",
    "r = requests.post(url,json=data)\n",
    "print(r.json())"
   ]
  }
 ],
 "metadata": {
  "kernelspec": {
   "display_name": "Python 3.9.13 64-bit (microsoft store)",
   "language": "python",
   "name": "python3"
  },
  "language_info": {
   "codemirror_mode": {
    "name": "ipython",
    "version": 3
   },
   "file_extension": ".py",
   "mimetype": "text/x-python",
   "name": "python",
   "nbconvert_exporter": "python",
   "pygments_lexer": "ipython3",
   "version": "3.9.13"
  },
  "orig_nbformat": 4,
  "vscode": {
   "interpreter": {
    "hash": "15b1d8602741c5b3fa25f721f018e4b29c945a5480527792ded63ec1ce7044d9"
   }
  }
 },
 "nbformat": 4,
 "nbformat_minor": 2
}
